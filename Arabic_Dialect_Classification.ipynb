{
  "cells": [
    {
      "cell_type": "markdown",
      "metadata": {
        "id": "view-in-github",
        "colab_type": "text"
      },
      "source": [
        "<a href=\"https://colab.research.google.com/github/sherif17/Arabic_Dialect_Classification/blob/main/Arabic_Dialect_Classification.ipynb\" target=\"_parent\"><img src=\"https://colab.research.google.com/assets/colab-badge.svg\" alt=\"Open In Colab\"/></a>"
      ]
    },
    {
      "cell_type": "markdown",
      "metadata": {
        "id": "inuIPZSgx1h5"
      },
      "source": [
        "# **Imports**"
      ]
    },
    {
      "cell_type": "code",
      "execution_count": null,
      "metadata": {
        "id": "oavyO8XFxv60"
      },
      "outputs": [],
      "source": [
        "import os\n",
        "import re\n",
        "import pandas as pd\n",
        "from google.colab import drive\n",
        "import nltk"
      ]
    },
    {
      "cell_type": "code",
      "execution_count": null,
      "metadata": {
        "id": "_iPR8T_RFcl7"
      },
      "outputs": [],
      "source": [
        "from nltk.corpus import stopwords\n",
        "import matplotlib.pyplot as plt\n",
        "from sklearn import preprocessing\n",
        "from sklearn.model_selection import train_test_split\n",
        "from sklearn.feature_extraction.text import TfidfVectorizer\n",
        "from sklearn.ensemble import RandomForestClassifier\n",
        "from sklearn.pipeline import Pipeline\n",
        "from sklearn.linear_model import SGDClassifier\n",
        "from sklearn.naive_bayes import MultinomialNB\n",
        "from sklearn.metrics import accuracy_score, classification_report\n",
        "import pickle\n",
        "import argparse"
      ]
    },
    {
      "cell_type": "code",
      "execution_count": null,
      "metadata": {
        "id": "b2zCnf0pKGJL"
      },
      "outputs": [],
      "source": [
        "from tensorflow.keras import models\n",
        "from tensorflow.keras import layers\n",
        "from sklearn.model_selection import train_test_split\n",
        "from tensorflow.keras.preprocessing.text import Tokenizer\n",
        "from tensorflow.keras.preprocessing.sequence import pad_sequences\n",
        "from tensorflow.keras.callbacks import ModelCheckpoint\n",
        "from tensorflow.keras.layers import Embedding, SpatialDropout1D, LSTM, Dense\n",
        "from sklearn.metrics import classification_report"
      ]
    },
    {
      "cell_type": "code",
      "source": [
        "import pandas as pd\n",
        "from sklearn.feature_extraction.text import TfidfVectorizer\n",
        "from sklearn.model_selection import train_test_split\n",
        "from sklearn.svm import SVC\n",
        "from sklearn.metrics import classification_report\n",
        "from sklearn.pipeline import make_pipeline"
      ],
      "metadata": {
        "id": "sesbwtrOa9tw"
      },
      "execution_count": null,
      "outputs": []
    },
    {
      "cell_type": "code",
      "source": [
        "import tensorflow as tf\n",
        "from tensorflow.keras.callbacks import EarlyStopping, ReduceLROnPlateau\n",
        "from sklearn.utils.class_weight import compute_sample_weight\n",
        "import numpy as np\n",
        "from termcolor import colored"
      ],
      "metadata": {
        "id": "p3z8_zfvjpck"
      },
      "execution_count": null,
      "outputs": []
    },
    {
      "cell_type": "code",
      "source": [
        "import sqlite3\n",
        "import pandas as pd"
      ],
      "metadata": {
        "id": "CLbwz5w-vfSM"
      },
      "execution_count": null,
      "outputs": []
    },
    {
      "cell_type": "markdown",
      "source": [
        "# **Data Fetching**"
      ],
      "metadata": {
        "id": "u74JdY5muNuu"
      }
    },
    {
      "cell_type": "code",
      "execution_count": null,
      "metadata": {
        "colab": {
          "base_uri": "https://localhost:8080/"
        },
        "id": "FkFGWvy80wl5",
        "outputId": "6e5111b7-a7fc-4cbe-a863-0da97a14fc87"
      },
      "outputs": [
        {
          "output_type": "stream",
          "name": "stdout",
          "text": [
            "Mounted at /content/drive\n"
          ]
        }
      ],
      "source": [
        "drive.mount('/content/drive')"
      ]
    },
    {
      "cell_type": "code",
      "execution_count": null,
      "metadata": {
        "id": "h5sQov3T3etG"
      },
      "outputs": [],
      "source": [
        "dataset_path = '/content/drive/MyDrive/NLP_Final_Project'"
      ]
    },
    {
      "cell_type": "code",
      "source": [
        "db_file = dataset_path+'/dialects_database.db'"
      ],
      "metadata": {
        "id": "mkPGGThGuXOd"
      },
      "execution_count": null,
      "outputs": []
    },
    {
      "cell_type": "code",
      "source": [
        "# connect to the database file\n",
        "conn = sqlite3.connect(db_file)\n",
        "\n",
        "table1='id_text'\n",
        "table2='id_dialect'\n",
        "\n",
        "# execute a query to join the two tables on the 'id' column\n",
        "query = f\"\"\"\n",
        "SELECT {table1}.id, {table1}.text, {table2}.dialect\n",
        "FROM {table1}\n",
        "JOIN {table2} ON {table1}.id = {table2}.id\n",
        "\"\"\"\n",
        "raw_df = pd.read_sql_query(query, conn)\n",
        "\n",
        "# close the database connection\n",
        "conn.close()\n",
        "pd.set_option('display.max_colwidth', 100000)\n",
        "# display the result as a DataFrame\n",
        "raw_df"
      ],
      "metadata": {
        "colab": {
          "base_uri": "https://localhost:8080/",
          "height": 502
        },
        "id": "fREjOlPYvb9S",
        "outputId": "aafe7a16-f903-4924-c2b8-a9023f7debb6"
      },
      "execution_count": null,
      "outputs": [
        {
          "output_type": "execute_result",
          "data": {
            "text/plain": [
              "                         id  \\\n",
              "0       1009754958479151232   \n",
              "1       1009794751548313600   \n",
              "2       1019989115490787200   \n",
              "3       1035479791758135168   \n",
              "4       1035481122921164800   \n",
              "...                     ...   \n",
              "147720   982775354405376000   \n",
              "147721   980728852224860160   \n",
              "147722   975502734668500992   \n",
              "147723   980207908641263616   \n",
              "147724   981080482380238848   \n",
              "\n",
              "                                                                                                                                                                                                                                                                                                            text  \\\n",
              "0                                                                                                                                                                                             @toha_Altomy @gy_yah قليلين ادب ومنافقين. لو اختهم او قريبتهم تتعاكس تقولي عليهم من نشاط حقوق المرأة من ردة فعلهم.   \n",
              "1                                                                                                                                                                                                                                      @AlmFaisal 😂😂 الليبيين متقلبين!!!\\nبس بالنسبة ليا انا ميليشياوي زمان وتوة   \n",
              "2                                                                   @smsm071990 @ALMOGRBE كل 20 تانيه شاب ليبي بيرتاح لبنت مختلفة ويلاحظ انها غير كل البنات وبيحس كأنه يعرفها من زمان. بعدين يتزوج وحدة منهن وممكن اثنين ولاثلاثة وتنقلب الرومانسية لعياط وشياط وتهزيب\\nand they live happily ever after\\nذي اند   \n",
              "3       @AboryPro @lyranoo85 رانيا عقليتك متخلفة. اولا الانسان يلي يحتاج اهل يخاف منهم علشان يكون محترم هو انسان قليل الادب اصلاً. ثانياً شن ذنب يلي معندهش اب ولا ام ولا خوت ولا خوات؟ يعني اليتيمة متستحقش تتزوج؟ وثالثاً ليش البنت هي بس لازم ادير الف حساب للراجل؟ هي متستحقش يندارلها الف حساب ولا هي عبدة؟   \n",
              "4                                                                                                                                                                                             @lyranoo85 شكلك متعقدة علشان الراجل لي تحبيه ازوج بنت يتيمة ولا بنت معندهش خوت. هدي اعصابك وفكينا من التخلف امتاعك   \n",
              "...                                                                                                                                                                                                                                                                                                          ...   \n",
              "147720                                                                                                                                              الناس دي بتنفخ في قربة مقدودة بالدارجي كده  البلد دي لو ما الكيزان ديل راحو مافي حياه شريفه في البلد دي لان سبب الفساد والمصائب الموجودة #التطلع_لسودان_افضل   \n",
              "147721                                                                                                                                                                                                                                   @Wail_Hamza @amiromer انت عايش وين بره السودان ولا شنو ماشايف البحصل دا   \n",
              "147722                                                                                                                                                                                                                                                     مااحرم نفسي ميسي حريف ولعاب برضو ..\\nمدريدي وافتخر 🇪🇸   \n",
              "147723                                                                                                                                                                                  ياخي ديل ماخلو  للشيطان وإبليس شي لكن يروحو وين من ربنا ونحن وراك وراك ياكوز ياعفن الأيام معدوده خلاص  #تعرف_علي_الكيزان   \n",
              "147724                                                                                                                                                                                                                                                            @abdomaged127 النبي فيك صدمتني ياخي عاوز تعويض   \n",
              "\n",
              "       dialect  \n",
              "0           LY  \n",
              "1           LY  \n",
              "2           LY  \n",
              "3           LY  \n",
              "4           LY  \n",
              "...        ...  \n",
              "147720      SD  \n",
              "147721      SD  \n",
              "147722      SD  \n",
              "147723      SD  \n",
              "147724      SD  \n",
              "\n",
              "[147725 rows x 3 columns]"
            ],
            "text/html": [
              "\n",
              "  <div id=\"df-be8d6409-c234-470c-abb3-ab1cb3477af3\">\n",
              "    <div class=\"colab-df-container\">\n",
              "      <div>\n",
              "<style scoped>\n",
              "    .dataframe tbody tr th:only-of-type {\n",
              "        vertical-align: middle;\n",
              "    }\n",
              "\n",
              "    .dataframe tbody tr th {\n",
              "        vertical-align: top;\n",
              "    }\n",
              "\n",
              "    .dataframe thead th {\n",
              "        text-align: right;\n",
              "    }\n",
              "</style>\n",
              "<table border=\"1\" class=\"dataframe\">\n",
              "  <thead>\n",
              "    <tr style=\"text-align: right;\">\n",
              "      <th></th>\n",
              "      <th>id</th>\n",
              "      <th>text</th>\n",
              "      <th>dialect</th>\n",
              "    </tr>\n",
              "  </thead>\n",
              "  <tbody>\n",
              "    <tr>\n",
              "      <th>0</th>\n",
              "      <td>1009754958479151232</td>\n",
              "      <td>@toha_Altomy @gy_yah قليلين ادب ومنافقين. لو اختهم او قريبتهم تتعاكس تقولي عليهم من نشاط حقوق المرأة من ردة فعلهم.</td>\n",
              "      <td>LY</td>\n",
              "    </tr>\n",
              "    <tr>\n",
              "      <th>1</th>\n",
              "      <td>1009794751548313600</td>\n",
              "      <td>@AlmFaisal 😂😂 الليبيين متقلبين!!!\\nبس بالنسبة ليا انا ميليشياوي زمان وتوة</td>\n",
              "      <td>LY</td>\n",
              "    </tr>\n",
              "    <tr>\n",
              "      <th>2</th>\n",
              "      <td>1019989115490787200</td>\n",
              "      <td>@smsm071990 @ALMOGRBE كل 20 تانيه شاب ليبي بيرتاح لبنت مختلفة ويلاحظ انها غير كل البنات وبيحس كأنه يعرفها من زمان. بعدين يتزوج وحدة منهن وممكن اثنين ولاثلاثة وتنقلب الرومانسية لعياط وشياط وتهزيب\\nand they live happily ever after\\nذي اند</td>\n",
              "      <td>LY</td>\n",
              "    </tr>\n",
              "    <tr>\n",
              "      <th>3</th>\n",
              "      <td>1035479791758135168</td>\n",
              "      <td>@AboryPro @lyranoo85 رانيا عقليتك متخلفة. اولا الانسان يلي يحتاج اهل يخاف منهم علشان يكون محترم هو انسان قليل الادب اصلاً. ثانياً شن ذنب يلي معندهش اب ولا ام ولا خوت ولا خوات؟ يعني اليتيمة متستحقش تتزوج؟ وثالثاً ليش البنت هي بس لازم ادير الف حساب للراجل؟ هي متستحقش يندارلها الف حساب ولا هي عبدة؟</td>\n",
              "      <td>LY</td>\n",
              "    </tr>\n",
              "    <tr>\n",
              "      <th>4</th>\n",
              "      <td>1035481122921164800</td>\n",
              "      <td>@lyranoo85 شكلك متعقدة علشان الراجل لي تحبيه ازوج بنت يتيمة ولا بنت معندهش خوت. هدي اعصابك وفكينا من التخلف امتاعك</td>\n",
              "      <td>LY</td>\n",
              "    </tr>\n",
              "    <tr>\n",
              "      <th>...</th>\n",
              "      <td>...</td>\n",
              "      <td>...</td>\n",
              "      <td>...</td>\n",
              "    </tr>\n",
              "    <tr>\n",
              "      <th>147720</th>\n",
              "      <td>982775354405376000</td>\n",
              "      <td>الناس دي بتنفخ في قربة مقدودة بالدارجي كده  البلد دي لو ما الكيزان ديل راحو مافي حياه شريفه في البلد دي لان سبب الفساد والمصائب الموجودة #التطلع_لسودان_افضل</td>\n",
              "      <td>SD</td>\n",
              "    </tr>\n",
              "    <tr>\n",
              "      <th>147721</th>\n",
              "      <td>980728852224860160</td>\n",
              "      <td>@Wail_Hamza @amiromer انت عايش وين بره السودان ولا شنو ماشايف البحصل دا</td>\n",
              "      <td>SD</td>\n",
              "    </tr>\n",
              "    <tr>\n",
              "      <th>147722</th>\n",
              "      <td>975502734668500992</td>\n",
              "      <td>مااحرم نفسي ميسي حريف ولعاب برضو ..\\nمدريدي وافتخر 🇪🇸</td>\n",
              "      <td>SD</td>\n",
              "    </tr>\n",
              "    <tr>\n",
              "      <th>147723</th>\n",
              "      <td>980207908641263616</td>\n",
              "      <td>ياخي ديل ماخلو  للشيطان وإبليس شي لكن يروحو وين من ربنا ونحن وراك وراك ياكوز ياعفن الأيام معدوده خلاص  #تعرف_علي_الكيزان</td>\n",
              "      <td>SD</td>\n",
              "    </tr>\n",
              "    <tr>\n",
              "      <th>147724</th>\n",
              "      <td>981080482380238848</td>\n",
              "      <td>@abdomaged127 النبي فيك صدمتني ياخي عاوز تعويض</td>\n",
              "      <td>SD</td>\n",
              "    </tr>\n",
              "  </tbody>\n",
              "</table>\n",
              "<p>147725 rows × 3 columns</p>\n",
              "</div>\n",
              "      <button class=\"colab-df-convert\" onclick=\"convertToInteractive('df-be8d6409-c234-470c-abb3-ab1cb3477af3')\"\n",
              "              title=\"Convert this dataframe to an interactive table.\"\n",
              "              style=\"display:none;\">\n",
              "        \n",
              "  <svg xmlns=\"http://www.w3.org/2000/svg\" height=\"24px\"viewBox=\"0 0 24 24\"\n",
              "       width=\"24px\">\n",
              "    <path d=\"M0 0h24v24H0V0z\" fill=\"none\"/>\n",
              "    <path d=\"M18.56 5.44l.94 2.06.94-2.06 2.06-.94-2.06-.94-.94-2.06-.94 2.06-2.06.94zm-11 1L8.5 8.5l.94-2.06 2.06-.94-2.06-.94L8.5 2.5l-.94 2.06-2.06.94zm10 10l.94 2.06.94-2.06 2.06-.94-2.06-.94-.94-2.06-.94 2.06-2.06.94z\"/><path d=\"M17.41 7.96l-1.37-1.37c-.4-.4-.92-.59-1.43-.59-.52 0-1.04.2-1.43.59L10.3 9.45l-7.72 7.72c-.78.78-.78 2.05 0 2.83L4 21.41c.39.39.9.59 1.41.59.51 0 1.02-.2 1.41-.59l7.78-7.78 2.81-2.81c.8-.78.8-2.07 0-2.86zM5.41 20L4 18.59l7.72-7.72 1.47 1.35L5.41 20z\"/>\n",
              "  </svg>\n",
              "      </button>\n",
              "      \n",
              "  <style>\n",
              "    .colab-df-container {\n",
              "      display:flex;\n",
              "      flex-wrap:wrap;\n",
              "      gap: 12px;\n",
              "    }\n",
              "\n",
              "    .colab-df-convert {\n",
              "      background-color: #E8F0FE;\n",
              "      border: none;\n",
              "      border-radius: 50%;\n",
              "      cursor: pointer;\n",
              "      display: none;\n",
              "      fill: #1967D2;\n",
              "      height: 32px;\n",
              "      padding: 0 0 0 0;\n",
              "      width: 32px;\n",
              "    }\n",
              "\n",
              "    .colab-df-convert:hover {\n",
              "      background-color: #E2EBFA;\n",
              "      box-shadow: 0px 1px 2px rgba(60, 64, 67, 0.3), 0px 1px 3px 1px rgba(60, 64, 67, 0.15);\n",
              "      fill: #174EA6;\n",
              "    }\n",
              "\n",
              "    [theme=dark] .colab-df-convert {\n",
              "      background-color: #3B4455;\n",
              "      fill: #D2E3FC;\n",
              "    }\n",
              "\n",
              "    [theme=dark] .colab-df-convert:hover {\n",
              "      background-color: #434B5C;\n",
              "      box-shadow: 0px 1px 3px 1px rgba(0, 0, 0, 0.15);\n",
              "      filter: drop-shadow(0px 1px 2px rgba(0, 0, 0, 0.3));\n",
              "      fill: #FFFFFF;\n",
              "    }\n",
              "  </style>\n",
              "\n",
              "      <script>\n",
              "        const buttonEl =\n",
              "          document.querySelector('#df-be8d6409-c234-470c-abb3-ab1cb3477af3 button.colab-df-convert');\n",
              "        buttonEl.style.display =\n",
              "          google.colab.kernel.accessAllowed ? 'block' : 'none';\n",
              "\n",
              "        async function convertToInteractive(key) {\n",
              "          const element = document.querySelector('#df-be8d6409-c234-470c-abb3-ab1cb3477af3');\n",
              "          const dataTable =\n",
              "            await google.colab.kernel.invokeFunction('convertToInteractive',\n",
              "                                                     [key], {});\n",
              "          if (!dataTable) return;\n",
              "\n",
              "          const docLinkHtml = 'Like what you see? Visit the ' +\n",
              "            '<a target=\"_blank\" href=https://colab.research.google.com/notebooks/data_table.ipynb>data table notebook</a>'\n",
              "            + ' to learn more about interactive tables.';\n",
              "          element.innerHTML = '';\n",
              "          dataTable['output_type'] = 'display_data';\n",
              "          await google.colab.output.renderOutput(dataTable, element);\n",
              "          const docLink = document.createElement('div');\n",
              "          docLink.innerHTML = docLinkHtml;\n",
              "          element.appendChild(docLink);\n",
              "        }\n",
              "      </script>\n",
              "    </div>\n",
              "  </div>\n",
              "  "
            ]
          },
          "metadata": {},
          "execution_count": 11
        }
      ]
    },
    {
      "cell_type": "code",
      "execution_count": null,
      "metadata": {
        "colab": {
          "base_uri": "https://localhost:8080/"
        },
        "id": "QS4PhNKgpjfv",
        "outputId": "0322c081-a212-4f02-b017-a806ce226243"
      },
      "outputs": [
        {
          "output_type": "stream",
          "name": "stdout",
          "text": [
            "<class 'pandas.core.frame.DataFrame'>\n",
            "RangeIndex: 147725 entries, 0 to 147724\n",
            "Data columns (total 3 columns):\n",
            " #   Column   Non-Null Count   Dtype \n",
            "---  ------   --------------   ----- \n",
            " 0   id       147725 non-null  int64 \n",
            " 1   text     147725 non-null  object\n",
            " 2   dialect  147725 non-null  object\n",
            "dtypes: int64(1), object(2)\n",
            "memory usage: 3.4+ MB\n",
            "None\n"
          ]
        }
      ],
      "source": [
        "print(raw_df.info())"
      ]
    },
    {
      "cell_type": "code",
      "execution_count": null,
      "metadata": {
        "colab": {
          "base_uri": "https://localhost:8080/"
        },
        "id": "98F1E-Aoaok2",
        "outputId": "f7cf4824-05cd-4aa2-e2d7-fec342aa5d90"
      },
      "outputs": [
        {
          "output_type": "execute_result",
          "data": {
            "text/plain": [
              "EG    57636\n",
              "LY    36499\n",
              "LB    27617\n",
              "SD    14434\n",
              "MA    11539\n",
              "Name: dialect, dtype: int64"
            ]
          },
          "metadata": {},
          "execution_count": 13
        }
      ],
      "source": [
        "raw_df['dialect'].value_counts()"
      ]
    },
    {
      "cell_type": "markdown",
      "metadata": {
        "id": "NNnMQaoODUAl"
      },
      "source": [
        "# **EDA**"
      ]
    },
    {
      "cell_type": "markdown",
      "metadata": {
        "id": "YPZWBEApDgaX"
      },
      "source": [
        "*   **Check NaNs**\n",
        "\n"
      ]
    },
    {
      "cell_type": "code",
      "execution_count": null,
      "metadata": {
        "colab": {
          "base_uri": "https://localhost:8080/"
        },
        "id": "jGRl747QDXYl",
        "outputId": "50fa33c3-3b9f-43e8-c103-54bcb72b7387"
      },
      "outputs": [
        {
          "output_type": "execute_result",
          "data": {
            "text/plain": [
              "id         0\n",
              "text       0\n",
              "dialect    0\n",
              "dtype: int64"
            ]
          },
          "metadata": {},
          "execution_count": 14
        }
      ],
      "source": [
        "raw_df.isnull().sum()"
      ]
    },
    {
      "cell_type": "markdown",
      "metadata": {
        "id": "5r-JruIUDyY3"
      },
      "source": [
        "\n",
        "\n",
        "*   Check duplicates\n",
        "\n"
      ]
    },
    {
      "cell_type": "code",
      "execution_count": null,
      "metadata": {
        "colab": {
          "base_uri": "https://localhost:8080/"
        },
        "id": "5FNUyRKQD5ol",
        "outputId": "13bba94c-2806-4145-97b4-87336a8a73a7"
      },
      "outputs": [
        {
          "output_type": "execute_result",
          "data": {
            "text/plain": [
              "0"
            ]
          },
          "metadata": {},
          "execution_count": 15
        }
      ],
      "source": [
        "raw_df.duplicated(\"text\").sum()"
      ]
    },
    {
      "cell_type": "markdown",
      "metadata": {
        "id": "p8qQn8RQEOAo"
      },
      "source": [
        "*   **Sampling**\n",
        "\n",
        "\n"
      ]
    },
    {
      "cell_type": "code",
      "execution_count": null,
      "metadata": {
        "colab": {
          "base_uri": "https://localhost:8080/",
          "height": 581
        },
        "id": "ztdwqJUnEaFA",
        "outputId": "9c4f94e5-3abd-4439-f495-2232c9eba325"
      },
      "outputs": [
        {
          "output_type": "execute_result",
          "data": {
            "text/plain": [
              "                         id  \\\n",
              "127239  1163946680397512704   \n",
              "124222  1185913685904113664   \n",
              "43099    540181788715655168   \n",
              "3412    1164293631592869888   \n",
              "108608  1022743689196724224   \n",
              "27414   1052163017415233536   \n",
              "71111   1120030030384521216   \n",
              "75208   1175176852832489472   \n",
              "2644     842125009204219904   \n",
              "76584    993878570622734336   \n",
              "5256    1160997245069774848   \n",
              "125411  1163334852214702080   \n",
              "143443  1174083757466406912   \n",
              "9025     993990837121027968   \n",
              "40746    880581714799718400   \n",
              "\n",
              "                                                                                                                                                                                                                                                                                                text  \\\n",
              "127239                                                                                                                                                                                                                  @aliali10919 يسافرو فيهن هني احسن يعني؟؟؟؟ او يلبسو فيهن dior و louis vitton   \n",
              "124222                                                                                                                                                                                                                               مين هيدا اللي عّم يسبح فوق حدا انتبهلو؟ https://t.co/8Tnw6tQmoM   \n",
              "43099                                                                                                                                                                                                        يعني صفاء مغربي وزوجها بيتسلو بالموت علشان الشهرة بس أكيد ربنا مش حيسبكم تفلتو من عقابُ   \n",
              "3412                                                                                                                                                                                                                                                           @Mrs_Gibberish راهو دارو بيهم امبكبكه   \n",
              "108608                                                                                                                                                                                                                    @adel2607 ما شفت من اي ارض انت لشوف اذا ترابها احمر يا محلى تراباتها 😂😂😂😂😂   \n",
              "27414                                                                                                                                                                                                                                               @MHMAD_FARAG تعال الاسبوع الجاي وتوا تعرفها كلها   \n",
              "71111   فى المركز \\nشباب موظفيين اداريين \\nرحت اخلص حاجة عندهم\\n\\nواحد ضحك على حاجة قالها وتحد تانى\\nلقيت وتحد بيقوله الله على جمال ضحكتك\\n\\nمقدرتش اسكت\\nضحكت وقلت اول مرة اسمع حد رجل يتغزل فى راحل ويقوله جما ضحكتك\\n\\nانتوا واخدين بعض عن حب\\n\\nردوا بتلقائية لا دع العادى دلوقتى كلامنا بقى كدة   \n",
              "75208                                                                                                                                                                                                                                                     @Marwa_4M تستاهلي عشان قولتلك تعالي بدري 😂   \n",
              "2644                                                                                                                            يا #طرابلس  خيرك شن اللي جاك \\nيا باهية يا طيبة يا زينة \\n ومن اللي نزل دمعتك بكاك😢\\nكنتي عروس البحر يا مابهاك \\nبلاد الزهر والفل والياسمينا https://t.co/IKO2JaQvsX   \n",
              "76584                                                                                                                                                                                                                                                   @medogouda50 لا يا ميدو أنا سالت و محدش عارف   \n",
              "5256                                                                                                                                                                                                                                                                 @bofajuve كنك تبي تغسلها ولاشنو   \n",
              "125411                                                                                                                                                                                                                                                            @a_beer_farah أنو اشتقتلك انا اي 😉   \n",
              "143443                                                                                                                                                                                                                                                         @farandaway12 هههههه يعني لقيت ناس زي   \n",
              "9025                                                                                                                                                                                                                                             شني فيه في العالم الخارجي نسمع بايران وترامب هلبا ؟   \n",
              "40746                                                                                                                                                              الاعترااف فضيلة الممثلة تونسية لابسا قفطان مغربي و تفتخر بالزي المغربي نااس لمعندهمش انفصال في الشخصية \\n https://t.co/IanGGeejCt   \n",
              "\n",
              "       dialect  \n",
              "127239      LB  \n",
              "124222      LB  \n",
              "43099       MA  \n",
              "3412        LY  \n",
              "108608      LB  \n",
              "27414       LY  \n",
              "71111       EG  \n",
              "75208       EG  \n",
              "2644        LY  \n",
              "76584       EG  \n",
              "5256        LY  \n",
              "125411      LB  \n",
              "143443      SD  \n",
              "9025        LY  \n",
              "40746       MA  "
            ],
            "text/html": [
              "\n",
              "  <div id=\"df-2bbe916b-6189-4208-8c58-7ef81cda3f98\">\n",
              "    <div class=\"colab-df-container\">\n",
              "      <div>\n",
              "<style scoped>\n",
              "    .dataframe tbody tr th:only-of-type {\n",
              "        vertical-align: middle;\n",
              "    }\n",
              "\n",
              "    .dataframe tbody tr th {\n",
              "        vertical-align: top;\n",
              "    }\n",
              "\n",
              "    .dataframe thead th {\n",
              "        text-align: right;\n",
              "    }\n",
              "</style>\n",
              "<table border=\"1\" class=\"dataframe\">\n",
              "  <thead>\n",
              "    <tr style=\"text-align: right;\">\n",
              "      <th></th>\n",
              "      <th>id</th>\n",
              "      <th>text</th>\n",
              "      <th>dialect</th>\n",
              "    </tr>\n",
              "  </thead>\n",
              "  <tbody>\n",
              "    <tr>\n",
              "      <th>127239</th>\n",
              "      <td>1163946680397512704</td>\n",
              "      <td>@aliali10919 يسافرو فيهن هني احسن يعني؟؟؟؟ او يلبسو فيهن dior و louis vitton</td>\n",
              "      <td>LB</td>\n",
              "    </tr>\n",
              "    <tr>\n",
              "      <th>124222</th>\n",
              "      <td>1185913685904113664</td>\n",
              "      <td>مين هيدا اللي عّم يسبح فوق حدا انتبهلو؟ https://t.co/8Tnw6tQmoM</td>\n",
              "      <td>LB</td>\n",
              "    </tr>\n",
              "    <tr>\n",
              "      <th>43099</th>\n",
              "      <td>540181788715655168</td>\n",
              "      <td>يعني صفاء مغربي وزوجها بيتسلو بالموت علشان الشهرة بس أكيد ربنا مش حيسبكم تفلتو من عقابُ</td>\n",
              "      <td>MA</td>\n",
              "    </tr>\n",
              "    <tr>\n",
              "      <th>3412</th>\n",
              "      <td>1164293631592869888</td>\n",
              "      <td>@Mrs_Gibberish راهو دارو بيهم امبكبكه</td>\n",
              "      <td>LY</td>\n",
              "    </tr>\n",
              "    <tr>\n",
              "      <th>108608</th>\n",
              "      <td>1022743689196724224</td>\n",
              "      <td>@adel2607 ما شفت من اي ارض انت لشوف اذا ترابها احمر يا محلى تراباتها 😂😂😂😂😂</td>\n",
              "      <td>LB</td>\n",
              "    </tr>\n",
              "    <tr>\n",
              "      <th>27414</th>\n",
              "      <td>1052163017415233536</td>\n",
              "      <td>@MHMAD_FARAG تعال الاسبوع الجاي وتوا تعرفها كلها</td>\n",
              "      <td>LY</td>\n",
              "    </tr>\n",
              "    <tr>\n",
              "      <th>71111</th>\n",
              "      <td>1120030030384521216</td>\n",
              "      <td>فى المركز \\nشباب موظفيين اداريين \\nرحت اخلص حاجة عندهم\\n\\nواحد ضحك على حاجة قالها وتحد تانى\\nلقيت وتحد بيقوله الله على جمال ضحكتك\\n\\nمقدرتش اسكت\\nضحكت وقلت اول مرة اسمع حد رجل يتغزل فى راحل ويقوله جما ضحكتك\\n\\nانتوا واخدين بعض عن حب\\n\\nردوا بتلقائية لا دع العادى دلوقتى كلامنا بقى كدة</td>\n",
              "      <td>EG</td>\n",
              "    </tr>\n",
              "    <tr>\n",
              "      <th>75208</th>\n",
              "      <td>1175176852832489472</td>\n",
              "      <td>@Marwa_4M تستاهلي عشان قولتلك تعالي بدري 😂</td>\n",
              "      <td>EG</td>\n",
              "    </tr>\n",
              "    <tr>\n",
              "      <th>2644</th>\n",
              "      <td>842125009204219904</td>\n",
              "      <td>يا #طرابلس  خيرك شن اللي جاك \\nيا باهية يا طيبة يا زينة \\n ومن اللي نزل دمعتك بكاك😢\\nكنتي عروس البحر يا مابهاك \\nبلاد الزهر والفل والياسمينا https://t.co/IKO2JaQvsX</td>\n",
              "      <td>LY</td>\n",
              "    </tr>\n",
              "    <tr>\n",
              "      <th>76584</th>\n",
              "      <td>993878570622734336</td>\n",
              "      <td>@medogouda50 لا يا ميدو أنا سالت و محدش عارف</td>\n",
              "      <td>EG</td>\n",
              "    </tr>\n",
              "    <tr>\n",
              "      <th>5256</th>\n",
              "      <td>1160997245069774848</td>\n",
              "      <td>@bofajuve كنك تبي تغسلها ولاشنو</td>\n",
              "      <td>LY</td>\n",
              "    </tr>\n",
              "    <tr>\n",
              "      <th>125411</th>\n",
              "      <td>1163334852214702080</td>\n",
              "      <td>@a_beer_farah أنو اشتقتلك انا اي 😉</td>\n",
              "      <td>LB</td>\n",
              "    </tr>\n",
              "    <tr>\n",
              "      <th>143443</th>\n",
              "      <td>1174083757466406912</td>\n",
              "      <td>@farandaway12 هههههه يعني لقيت ناس زي</td>\n",
              "      <td>SD</td>\n",
              "    </tr>\n",
              "    <tr>\n",
              "      <th>9025</th>\n",
              "      <td>993990837121027968</td>\n",
              "      <td>شني فيه في العالم الخارجي نسمع بايران وترامب هلبا ؟</td>\n",
              "      <td>LY</td>\n",
              "    </tr>\n",
              "    <tr>\n",
              "      <th>40746</th>\n",
              "      <td>880581714799718400</td>\n",
              "      <td>الاعترااف فضيلة الممثلة تونسية لابسا قفطان مغربي و تفتخر بالزي المغربي نااس لمعندهمش انفصال في الشخصية \\n https://t.co/IanGGeejCt</td>\n",
              "      <td>MA</td>\n",
              "    </tr>\n",
              "  </tbody>\n",
              "</table>\n",
              "</div>\n",
              "      <button class=\"colab-df-convert\" onclick=\"convertToInteractive('df-2bbe916b-6189-4208-8c58-7ef81cda3f98')\"\n",
              "              title=\"Convert this dataframe to an interactive table.\"\n",
              "              style=\"display:none;\">\n",
              "        \n",
              "  <svg xmlns=\"http://www.w3.org/2000/svg\" height=\"24px\"viewBox=\"0 0 24 24\"\n",
              "       width=\"24px\">\n",
              "    <path d=\"M0 0h24v24H0V0z\" fill=\"none\"/>\n",
              "    <path d=\"M18.56 5.44l.94 2.06.94-2.06 2.06-.94-2.06-.94-.94-2.06-.94 2.06-2.06.94zm-11 1L8.5 8.5l.94-2.06 2.06-.94-2.06-.94L8.5 2.5l-.94 2.06-2.06.94zm10 10l.94 2.06.94-2.06 2.06-.94-2.06-.94-.94-2.06-.94 2.06-2.06.94z\"/><path d=\"M17.41 7.96l-1.37-1.37c-.4-.4-.92-.59-1.43-.59-.52 0-1.04.2-1.43.59L10.3 9.45l-7.72 7.72c-.78.78-.78 2.05 0 2.83L4 21.41c.39.39.9.59 1.41.59.51 0 1.02-.2 1.41-.59l7.78-7.78 2.81-2.81c.8-.78.8-2.07 0-2.86zM5.41 20L4 18.59l7.72-7.72 1.47 1.35L5.41 20z\"/>\n",
              "  </svg>\n",
              "      </button>\n",
              "      \n",
              "  <style>\n",
              "    .colab-df-container {\n",
              "      display:flex;\n",
              "      flex-wrap:wrap;\n",
              "      gap: 12px;\n",
              "    }\n",
              "\n",
              "    .colab-df-convert {\n",
              "      background-color: #E8F0FE;\n",
              "      border: none;\n",
              "      border-radius: 50%;\n",
              "      cursor: pointer;\n",
              "      display: none;\n",
              "      fill: #1967D2;\n",
              "      height: 32px;\n",
              "      padding: 0 0 0 0;\n",
              "      width: 32px;\n",
              "    }\n",
              "\n",
              "    .colab-df-convert:hover {\n",
              "      background-color: #E2EBFA;\n",
              "      box-shadow: 0px 1px 2px rgba(60, 64, 67, 0.3), 0px 1px 3px 1px rgba(60, 64, 67, 0.15);\n",
              "      fill: #174EA6;\n",
              "    }\n",
              "\n",
              "    [theme=dark] .colab-df-convert {\n",
              "      background-color: #3B4455;\n",
              "      fill: #D2E3FC;\n",
              "    }\n",
              "\n",
              "    [theme=dark] .colab-df-convert:hover {\n",
              "      background-color: #434B5C;\n",
              "      box-shadow: 0px 1px 3px 1px rgba(0, 0, 0, 0.15);\n",
              "      filter: drop-shadow(0px 1px 2px rgba(0, 0, 0, 0.3));\n",
              "      fill: #FFFFFF;\n",
              "    }\n",
              "  </style>\n",
              "\n",
              "      <script>\n",
              "        const buttonEl =\n",
              "          document.querySelector('#df-2bbe916b-6189-4208-8c58-7ef81cda3f98 button.colab-df-convert');\n",
              "        buttonEl.style.display =\n",
              "          google.colab.kernel.accessAllowed ? 'block' : 'none';\n",
              "\n",
              "        async function convertToInteractive(key) {\n",
              "          const element = document.querySelector('#df-2bbe916b-6189-4208-8c58-7ef81cda3f98');\n",
              "          const dataTable =\n",
              "            await google.colab.kernel.invokeFunction('convertToInteractive',\n",
              "                                                     [key], {});\n",
              "          if (!dataTable) return;\n",
              "\n",
              "          const docLinkHtml = 'Like what you see? Visit the ' +\n",
              "            '<a target=\"_blank\" href=https://colab.research.google.com/notebooks/data_table.ipynb>data table notebook</a>'\n",
              "            + ' to learn more about interactive tables.';\n",
              "          element.innerHTML = '';\n",
              "          dataTable['output_type'] = 'display_data';\n",
              "          await google.colab.output.renderOutput(dataTable, element);\n",
              "          const docLink = document.createElement('div');\n",
              "          docLink.innerHTML = docLinkHtml;\n",
              "          element.appendChild(docLink);\n",
              "        }\n",
              "      </script>\n",
              "    </div>\n",
              "  </div>\n",
              "  "
            ]
          },
          "metadata": {},
          "execution_count": 63
        }
      ],
      "source": [
        "raw_df.sample(15)"
      ]
    },
    {
      "cell_type": "markdown",
      "metadata": {
        "id": "euT3F2fPFER6"
      },
      "source": [
        "*   **Check dataset balancing**"
      ]
    },
    {
      "cell_type": "code",
      "execution_count": null,
      "metadata": {
        "colab": {
          "base_uri": "https://localhost:8080/"
        },
        "id": "51FYi0bVFNJh",
        "outputId": "e79fc007-ec0a-4d53-a3be-9649570fbb81"
      },
      "outputs": [
        {
          "output_type": "execute_result",
          "data": {
            "text/plain": [
              "EG    57636\n",
              "LY    36499\n",
              "LB    27617\n",
              "SD    14434\n",
              "MA    11539\n",
              "Name: dialect, dtype: int64"
            ]
          },
          "metadata": {},
          "execution_count": 17
        }
      ],
      "source": [
        "value_counts=raw_df['dialect'].value_counts()\n",
        "value_counts"
      ]
    },
    {
      "cell_type": "code",
      "execution_count": null,
      "metadata": {
        "colab": {
          "base_uri": "https://localhost:8080/",
          "height": 472
        },
        "id": "ADXoSLBAFzsq",
        "outputId": "c926d87d-7547-45db-add1-904152020840"
      },
      "outputs": [
        {
          "output_type": "display_data",
          "data": {
            "text/plain": [
              "<Figure size 640x480 with 1 Axes>"
            ],
            "image/png": "[encoded data removed]"
          },
          "metadata": {}
        }
      ],
      "source": [
        "# Create bar plot\n",
        "plt.bar(value_counts.index, value_counts.values)\n",
        "# Add title and labels\n",
        "plt.title('Distribution of Dialects')\n",
        "plt.xlabel('Dialect')\n",
        "plt.ylabel('Count')\n",
        "\n",
        "# Show plot\n",
        "plt.show()"
      ]
    },
    {
      "cell_type": "markdown",
      "metadata": {
        "id": "i9xMPY-XzsL5"
      },
      "source": [
        "# **Data Preprocessing** "
      ]
    },
    {
      "cell_type": "markdown",
      "metadata": {
        "id": "Y5Ee6HTQ9VD1"
      },
      "source": [
        "## **Helper functions**"
      ]
    },
    {
      "cell_type": "code",
      "execution_count": null,
      "metadata": {
        "colab": {
          "base_uri": "https://localhost:8080/"
        },
        "id": "9eB8kSseIWus",
        "outputId": "23e9a6ec-a6d5-4b5a-c3f4-9dc117c2ca14"
      },
      "outputs": [
        {
          "output_type": "stream",
          "name": "stderr",
          "text": [
            "[nltk_data] Downloading package stopwords to /root/nltk_data...\n",
            "[nltk_data]   Unzipping corpora/stopwords.zip.\n"
          ]
        }
      ],
      "source": [
        "nltk.download('stopwords')\n",
        "stop_words = set(stopwords.words('arabic'))"
      ]
    },
    {
      "cell_type": "code",
      "execution_count": null,
      "metadata": {
        "colab": {
          "base_uri": "https://localhost:8080/"
        },
        "id": "ykch3eKGrtq4",
        "outputId": "97d3dd14-7f18-4ff5-e8da-d3a36073321d"
      },
      "outputs": [
        {
          "output_type": "stream",
          "name": "stdout",
          "text": [
            "Before:  في نلعب هيا بنا\n",
            "After : نلعب\n"
          ]
        }
      ],
      "source": [
        "def remove_stopwords(text):\n",
        "    words = text.split()\n",
        "    filtered_words = [word for word in words if word.lower() not in stop_words]\n",
        "    return ' '.join(filtered_words)\n",
        "\n",
        "raw_text = \" في نلعب هيا بنا\"\n",
        "preprocessed_text = remove_stopwords(raw_text)\n",
        "\n",
        "print(f'Before: {raw_text}')\n",
        "print(f'After : {preprocessed_text}')"
      ]
    },
    {
      "cell_type": "code",
      "execution_count": null,
      "metadata": {
        "colab": {
          "base_uri": "https://localhost:8080/"
        },
        "id": "icjtogwRrvM_",
        "outputId": "ff533823-22c2-4c3b-c7cc-e6b93dceb0f6"
      },
      "outputs": [
        {
          "output_type": "stream",
          "name": "stdout",
          "text": [
            "Before: @baDYHezsQfLVRtQ مسا مسا اهو انت 😂😂😂\n",
            "After :  مسا مسا اهو انت 😂😂😂\n"
          ]
        }
      ],
      "source": [
        "def remove_usernames(text):\n",
        "    clean_text = re.sub(r'@\\w+', '', text)\n",
        "    return clean_text\n",
        "\n",
        "raw_text = \"@baDYHezsQfLVRtQ مسا مسا اهو انت 😂😂😂\"\n",
        "preprocessed_text = remove_usernames(raw_text)\n",
        "\n",
        "print(f'Before: {raw_text}')\n",
        "print(f'After : {preprocessed_text}')"
      ]
    },
    {
      "cell_type": "code",
      "execution_count": null,
      "metadata": {
        "colab": {
          "base_uri": "https://localhost:8080/"
        },
        "id": "YsExTzTIrwxl",
        "outputId": "985f0dff-0fb7-4601-d7e2-a402feeca926"
      },
      "outputs": [
        {
          "output_type": "stream",
          "name": "stdout",
          "text": [
            "Before: @baDYHezsQfLVRtQ مسا مسا اهو انت 😂😂😂\n",
            "After : @baDYHezsQfLVRtQ مسا مسا اهو انت \n"
          ]
        }
      ],
      "source": [
        "def remove_emojis(text):\n",
        "    clean_text = re.sub(r'[^\\w\\s#@/:%.,_-]', '', text)\n",
        "    return clean_text\n",
        "\n",
        "raw_text = \"@baDYHezsQfLVRtQ مسا مسا اهو انت 😂😂😂\"\n",
        "preprocessed_text = remove_emojis(raw_text)\n",
        "\n",
        "print(f'Before: {raw_text}')\n",
        "print(f'After : {preprocessed_text}')"
      ]
    },
    {
      "cell_type": "code",
      "execution_count": null,
      "metadata": {
        "colab": {
          "base_uri": "https://localhost:8080/"
        },
        "id": "AR1X4wc3ryx3",
        "outputId": "e895eb85-6f08-4465-d881-0a1ec3327064"
      },
      "outputs": [
        {
          "output_type": "stream",
          "name": "stdout",
          "text": [
            "Before: ٣٣ هاي\n",
            "After :  هاي\n"
          ]
        }
      ],
      "source": [
        "def remove_numbers(text):\n",
        "    clean_text = re.sub(r'\\d+', '', text)\n",
        "    return clean_text\n",
        "\n",
        "raw_text = \"٣٣ هاي\"\n",
        "preprocessed_text = remove_numbers(raw_text)\n",
        "\n",
        "print(f'Before: {raw_text}')\n",
        "print(f'After : {preprocessed_text}')"
      ]
    },
    {
      "cell_type": "code",
      "execution_count": null,
      "metadata": {
        "colab": {
          "base_uri": "https://localhost:8080/"
        },
        "id": "AAXzcGUar3d8",
        "outputId": "af7333aa-c83f-42f2-9d44-9f3c67c6caed"
      },
      "outputs": [
        {
          "output_type": "stream",
          "name": "stdout",
          "text": [
            "Before: النكتة حلوة، بس هو مكانش عامل فولو ليه أصلا https://t.co/6lmlpseLk4\twww.google.com\n",
            "After : النكتة حلوة، بس هو مكانش عامل فولو ليه أصلا \t\n"
          ]
        }
      ],
      "source": [
        "def remove_links(text):\n",
        "  URL_REGEXES = [\n",
        "    r\"(http(s)?:\\/\\/.)?(www\\.)?[-a-zA-Z0-9@:%._\\+~#=]{2,256}\\.[a-z]{2,6}\\b([-a-zA-Z0-9@:%_\\+.~#?&//=]*)\",\n",
        "    r\"@(https?|ftp)://(-\\.)?([^\\s/?\\.#-]+\\.?)+(/[^\\s]*)?$@iS\",\n",
        "    r\"http[s]?://[a-zA-Z0-9_\\-./~\\?=%&]+\",\n",
        "    r\"www[a-zA-Z0-9_\\-?=%&/.~]+\",\n",
        "    r\"[a-zA-Z]+\\.com\",\n",
        "    r\"(?=http)[^\\s]+\",\n",
        "    r\"(?=www)[^\\s]+\",\n",
        "    r\"://\",\n",
        "  ]\n",
        "  \n",
        "  for reg in URL_REGEXES:\n",
        "    text = re.sub(reg, '', text)\n",
        "  return text\n",
        "\n",
        "raw_text = \"النكتة حلوة، بس هو مكانش عامل فولو ليه أصلا https://t.co/6lmlpseLk4\twww.google.com\"\n",
        "preprocessed_text = remove_links(raw_text)\n",
        "\n",
        "print(f'Before: {raw_text}')\n",
        "print(f'After : {preprocessed_text}')"
      ]
    },
    {
      "cell_type": "code",
      "execution_count": null,
      "metadata": {
        "colab": {
          "base_uri": "https://localhost:8080/"
        },
        "id": "y6y-qLXKr5Jj",
        "outputId": "477898c0-9ff8-44a4-d3f2-8307377b0af2"
      },
      "outputs": [
        {
          "output_type": "stream",
          "name": "stdout",
          "text": [
            "Before: LeloSherif وانتي طيبة ي احلى لارا يا ملكة تويتر ❤️❤️\n",
            "يارب انا وانتي حبيبتي الله يسعدك ❤️❤️😘\t\n",
            "After :  وانتي طيبة ي احلى لارا يا ملكة تويتر ❤️❤️\n",
            "يارب انا وانتي حبيبتي الله يسعدك ❤️❤️😘\t\n"
          ]
        }
      ],
      "source": [
        "def remove_english(text):\n",
        "    english_pattern = re.compile(r'[a-zA-Z]+')\n",
        "    cleaned_text = re.sub(english_pattern, '', text)\n",
        "    return cleaned_text\n",
        "\n",
        "raw_text = \"LeloSherif وانتي طيبة ي احلى لارا يا ملكة تويتر ❤️❤️\\nيارب انا وانتي حبيبتي الله يسعدك ❤️❤️😘\t\"\n",
        "preprocessed_text = remove_english(raw_text)\n",
        "\n",
        "print(f'Before: {raw_text}')\n",
        "print(f'After : {preprocessed_text}')"
      ]
    },
    {
      "cell_type": "code",
      "execution_count": null,
      "metadata": {
        "colab": {
          "base_uri": "https://localhost:8080/"
        },
        "id": "QAVUG8TZr8Dl",
        "outputId": "accba3ee-8c87-4f32-8a31-e33fea271517"
      },
      "outputs": [
        {
          "output_type": "stream",
          "name": "stdout",
          "text": [
            "Before: الــبسملة : ( بِسْمِ اللَّـهِ الرَّحْمَـٰنِ الرَّحِيمِ )\n",
            "After : البسملة : ( بسم الله الرحمٰن الرحيم )\n"
          ]
        }
      ],
      "source": [
        "def remove_diacritics(text):\n",
        "    arabic_diacritics = re.compile(\"\"\"\n",
        "                             ّ    | # Tashdid\n",
        "                             َ    | # Fatha\n",
        "                             ً    | # Tanwin Fath\n",
        "                             ُ    | # Damma\n",
        "                             ٌ    | # Tanwin Damm\n",
        "                             ِ    | # Kasra\n",
        "                             ٍ    | # Tanwin Kasr\n",
        "                             ْ    | # Sukun\n",
        "                            ـ    | # Tatwil/Kashida\n",
        "                         \"\"\", re.VERBOSE)\n",
        "    return re.sub(arabic_diacritics, '', text)\n",
        "\n",
        "raw_text = \"الــبسملة : ( بِسْمِ اللَّـهِ الرَّحْمَـٰنِ الرَّحِيمِ )\"\n",
        "preprocessed_text = remove_diacritics(raw_text)\n",
        "\n",
        "print(f'Before: {raw_text}')\n",
        "print(f'After : {preprocessed_text}')"
      ]
    },
    {
      "cell_type": "code",
      "execution_count": null,
      "metadata": {
        "colab": {
          "base_uri": "https://localhost:8080/"
        },
        "id": "F1WBJAhezyvk",
        "outputId": "0c2539a6-2760-4ebb-81a1-f34ac028699a"
      },
      "outputs": [
        {
          "output_type": "stream",
          "name": "stdout",
          "text": [
            "Before: ى آ ؤ ئ هيا\n",
            "After : ي ا ء ء هيا\n"
          ]
        }
      ],
      "source": [
        "def normalize_chars(text):\n",
        "    preprocessed_text = re.sub(\"[إأآا]\", \"ا\", text)\n",
        "    preprocessed_text = re.sub(\"ى\", \"ي\", preprocessed_text)\n",
        "    preprocessed_text = re.sub(\"ؤ\", \"ء\", preprocessed_text)\n",
        "    preprocessed_text = re.sub(\"ئ\", \"ء\", preprocessed_text)\n",
        "    preprocessed_text = re.sub(\"ة\", \"ه\", preprocessed_text)\n",
        "    preprocessed_text = re.sub(\"گ\", \"ك\", preprocessed_text)\n",
        "    preprocessed_text = re.sub(\"ڤ\", \"ف\", preprocessed_text)\n",
        "    preprocessed_text = re.sub(\"چ\", \"ج\", preprocessed_text)\n",
        "    preprocessed_text = re.sub(\"ژ\", \"ز\", preprocessed_text)\n",
        "    preprocessed_text = re.sub(\"پ\", \"ب\", preprocessed_text)\n",
        "    return preprocessed_text\n",
        "\n",
        "raw_text = \"ى آ ؤ ئ هيا\"\n",
        "preprocessed_text = normalize_chars(raw_text)\n",
        "\n",
        "print(f'Before: {raw_text}')\n",
        "print(f'After : {preprocessed_text}')"
      ]
    },
    {
      "cell_type": "code",
      "execution_count": null,
      "metadata": {
        "colab": {
          "base_uri": "https://localhost:8080/"
        },
        "id": "IsnEFPSOr-5X",
        "outputId": "774a2e3c-8384-49f6-f100-37b31d715a65"
      },
      "outputs": [
        {
          "output_type": "stream",
          "name": "stdout",
          "text": [
            "Before:  مرحيا ðð·\n",
            "After :  مرحيا  \n"
          ]
        }
      ],
      "source": [
        "def remove_special_chars(text):\n",
        "  '''\n",
        "   The regular expression r'[^\\u0600-\\u06FF\\u0750-\\u077F\\u08A0-\\u08FF\\d\\s]+'\n",
        "    matches any characters that are not in the specified range of \n",
        "    Arabic Unicode characters (\\u0600-\\u06FF, \\u0750-\\u077F, and \\u08A0-\\u08FF),\n",
        "    digits (\\d), or whitespace (\\s).\n",
        "  '''\n",
        "  special_chars_pattern = re.compile(r'[^\\u0600-\\u06FF\\u0750-\\u077F\\u08A0-\\u08FF\\d# ]+')\n",
        "\n",
        "  cleaned_text = re.sub(special_chars_pattern, ' ', text)\n",
        "  return cleaned_text \n",
        "\n",
        "raw_text = \" مرحيا ðð·\"\n",
        "preprocessed_text = remove_special_chars(raw_text)\n",
        "\n",
        "print(f'Before: {raw_text}')\n",
        "print(f'After : {preprocessed_text}')"
      ]
    },
    {
      "cell_type": "code",
      "execution_count": null,
      "metadata": {
        "colab": {
          "base_uri": "https://localhost:8080/"
        },
        "id": "vs4U6s-489SJ",
        "outputId": "f55eed0d-84b4-4876-879c-b2c2f51afaf8"
      },
      "outputs": [
        {
          "output_type": "stream",
          "name": "stdout",
          "text": [
            "Before:    #تبيلس \n",
            " #الوكر_بيشجع_الفولورز\n",
            " #المواكيس_وفولورز_ببلاش\n",
            "#زعيم_تويتر_هيزودك\n",
            "After :     تبيلس    الوكر بيشجع الفولورز   المواكيس وفولورز ببلاش  زعيم تويتر هيزودك\n"
          ]
        }
      ],
      "source": [
        "def remove_punctuation(text):\n",
        "  pun = r\"([!\\\"#\\$%\\'\\(\\)\\*\\+,\\.:;\\-<=·>?@\\[\\\\\\]\\^_ـ`{\\|}~—٪’،؟`୍“؛”ۚ【»؛\\s+«–…‘])\"\n",
        "  cleaned_text = re.sub(pun, ' ', text)\n",
        "  return cleaned_text \n",
        "\n",
        "# raw_text = \"نسيت خبركم: طار #السبهان_هي\"\n",
        "raw_text = \"   #تبيلس \\n #الوكر_بيشجع_الفولورز\\n #المواكيس_وفولورز_ببلاش\\n#زعيم_تويتر_هيزودك\"\n",
        "preprocessed_text = remove_punctuation(raw_text)\n",
        "\n",
        "print(f'Before: {raw_text}')\n",
        "print(f'After : {preprocessed_text}')\n"
      ]
    },
    {
      "cell_type": "code",
      "execution_count": null,
      "metadata": {
        "colab": {
          "base_uri": "https://localhost:8080/"
        },
        "id": "DuNTT8VVr2O0",
        "outputId": "928efb04-c641-4488-c7f9-c25f0c6588d2"
      },
      "outputs": [
        {
          "output_type": "stream",
          "name": "stdout",
          "text": [
            "Before: السلام عليكم    علـيـكم   \n",
            "After : السلام عليكم علـيـكم\n"
          ]
        }
      ],
      "source": [
        "def remove_extra_whitespaces(text):\n",
        "    clean_text = re.sub(r'\\s+', ' ', text)\n",
        "    return clean_text.strip()\n",
        "\n",
        "raw_text = \"السلام عليكم    علـيـكم   \"\n",
        "preprocessed_text = remove_extra_whitespaces(raw_text)\n",
        "\n",
        "print(f'Before: {raw_text}')\n",
        "print(f'After : {preprocessed_text}')"
      ]
    },
    {
      "cell_type": "code",
      "execution_count": null,
      "metadata": {
        "colab": {
          "base_uri": "https://localhost:8080/"
        },
        "id": "_4bKXKiV-RJR",
        "outputId": "ea1c9e96-5f53-47fa-efbf-2d5a18a28145"
      },
      "outputs": [
        {
          "output_type": "stream",
          "name": "stdout",
          "text": [
            "Before:  اللللي بتااااااااااااااع  اللله اناااااااا \n",
            "After :  اللي بتااع  الله اناا \n"
          ]
        }
      ],
      "source": [
        "def remove_repeated_chars(text):\n",
        "    pattern = re.compile(r\"(.)\\1{2,}\")\n",
        "    clean_text = pattern.sub(r\"\\1\\1\", text)\n",
        "    return clean_text\n",
        "\n",
        "raw_text = \" اللللي بتااااااااااااااع  اللله اناااااااا \"\n",
        "preprocessed_text = remove_repeated_chars(raw_text)\n",
        "\n",
        "print(f'Before: {raw_text}')\n",
        "print(f'After : {preprocessed_text}')"
      ]
    },
    {
      "cell_type": "markdown",
      "metadata": {
        "id": "s47dtMIo03yS"
      },
      "source": [
        "## **Apply Preprocessing steps:**\n",
        "\n",
        "1. stop words 'include tashkeel and diacritics'\n",
        "\n",
        "2. emojis 'before numbers', numbers, usernames : 'independent'\n",
        "\n",
        "3. urls : 'dependent on english chars\n",
        "\n",
        "\n",
        "4. english words, remove_diacritics, tashkeel\n",
        "\n",
        "5. remove_special_chars, punctuation\n",
        "\n",
        "6. whitespaces -> last thing"
      ]
    },
    {
      "cell_type": "code",
      "execution_count": null,
      "metadata": {
        "id": "T5260W5jGzPD"
      },
      "outputs": [],
      "source": [
        "def remove_all(text):\n",
        "\n",
        "  #stop_words\n",
        "  text = remove_stopwords(text)\n",
        "\n",
        "  #user_names\n",
        "  text = remove_usernames(text)\n",
        "\n",
        "  #emojies\n",
        "  text = remove_emojis(text)\n",
        "  \n",
        "  #numbers\n",
        "  text = remove_numbers(text)\n",
        "\n",
        "  #links\n",
        "  text = remove_links(text)\n",
        "\n",
        "  # English\n",
        "  text= remove_english(text)\n",
        "\n",
        "  #tashkel \n",
        "  text=remove_diacritics(text)\n",
        "\n",
        "  #normalizeChars\n",
        "  text=normalize_chars(text)\n",
        "\n",
        "  # special chars\n",
        "  text=remove_special_chars(text)\n",
        "\n",
        "  # punctuation\n",
        "  text=remove_punctuation(text)\n",
        "\n",
        "  #white_space\n",
        "  text = remove_extra_whitespaces(text)\n",
        "\n",
        "  #repeated charachters\n",
        "  text = remove_repeated_chars(text)\n",
        " \n",
        "  return text"
      ]
    },
    {
      "cell_type": "code",
      "execution_count": null,
      "metadata": {
        "id": "1lC2iIjTJEqS"
      },
      "outputs": [],
      "source": [
        "df = raw_df.copy()\n",
        "df=df.drop('id',axis=1)"
      ]
    },
    {
      "cell_type": "code",
      "execution_count": null,
      "metadata": {
        "id": "EmLAzBnfI3JT"
      },
      "outputs": [],
      "source": [
        "df['text']=df['text'].apply(remove_all)"
      ]
    },
    {
      "cell_type": "code",
      "execution_count": null,
      "metadata": {
        "colab": {
          "base_uri": "https://localhost:8080/",
          "height": 1000
        },
        "id": "E38XfTZje8YG",
        "outputId": "2a4cc5e9-5e8b-4d55-ae60-79a2bbdfe267"
      },
      "outputs": [
        {
          "output_type": "execute_result",
          "data": {
            "text/plain": [
              "                                                                                                                                                                    text  \\\n",
              "87572                                                                                                     يامءدب انا عايشه في مصر مش حينفع اشتمك للاسف حاكتفي ببلوك رقيق   \n",
              "108131          رحت محل الفراريج قلتلو بدي فروج مشوي قلي شفت مبارح الجمهور الياباني نضف الدني رغم الخساره بالثواني الاخيره تاثرت كتير ومسكت دموعي واخدت الفروج توم زياده   \n",
              "67471                                                                      مش بصدق الناس ده اوي مجدي لغتهم شء المبالغه تحس عايزين يوصلوا رساله يقصدونها يارب اكون غلطانه   \n",
              "127681                                                                                                             يالطيف ياالله الطف بعبادك وشفيهم ياكريم يامعين ياالله   \n",
              "108626                                                                                                          بتطلع قلبي بدرجه وحده ادفشك وتتدعبل بتسقط درجه اوعك تنسي   \n",
              "110974                                                                                                                                          ممكن اعرف التظاهر ضد مين   \n",
              "27072                                                                                     جاوبت ربي يوفقك ويفرحك ويرزقك خيره وديري مشروع تجميل او اي مشروع انت تبيه يارب   \n",
              "84712                                                                                                                  جيمي اسف وبيحبك عارفه مرجعتيش وجيمي عمل نفسه حاجه   \n",
              "74697                                                                                              الزمن ساعتين وحبه عشان تستلم العربيه التوكيل والمهندس بيقولي دقايق بس   \n",
              "39429                                                                                                                            اسماعيل سمع سميتو طل او مشي قول سلام هه   \n",
              "97882                                                                                                                                طبعا فندم وربنا يحميهم غدر الغادرين   \n",
              "72618                                                                                                                                          تسلمي الكل ربنايعز مقدارك   \n",
              "115228                                                                                                                                               منحكي الا الحق نحنا   \n",
              "19281                                                                                                                          بنت ال ومعاها بنت منعو بريطانيا دارو لجوء   \n",
              "76862                                                                                                                  وادي اتنين اصحابي هيبلغوا الناس ومساء الفل عليكوا   \n",
              "57982                                       جايه الصعب ماشيه فات عليكي ليل وميه واحتمالك وابتسامتك هي هي تضحكي للصبح يصبح ليله ومغربيه تطلع الشمس تلاقيكي معجبانيه وصبيه   \n",
              "24151                                                                                                          زعلان منك راه وحتي والله زعلان مني وكلنا زعلانين مني عادي   \n",
              "129237                                                                                بعرف شو هالقوي بكل شي بهالبرنامج بالضيوف والاعداد والهضامه انا كتير بحبكن لهون وبس   \n",
              "57220                                                                                                                                اوروبا اللي هاروحها اكيد مافهاش برد   \n",
              "1774    احلي خبرر كتير مبسوطه قصقص بفيلم مصري ولاول مره بدور شريف ناهي قريبا رح ينعرض القصه مستوحي الحقيقه ناطرينك حبيبي والف مبرووك والله يوفقك ويكون معك يارب العالمين   \n",
              "143013                                                                                                                                                جادي انتا كلامك دا   \n",
              "38072                                                                                                                             كفايه عليكم سبولنا احنا الكاس المره دي   \n",
              "24789                                                                                                                                         يذكروني بسعر الدولار اليوم   \n",
              "145362                                                                                                                                           اهم شي الشاحن يكون اصلي   \n",
              "121292                                                                                     شو اشبك انش تاين حدا شايفك ارضك بدك تعطي اهميه لحالك اكتر روح حديقه الحيوانات   \n",
              "41253                                                                                                           نقولو العكر ماكاينش السروال المقطع كولو كون دارو يبان شي   \n",
              "91957                                                                                                                               منور حبي ووحشتني بقالك كام يوم مختفي   \n",
              "135077                                                                                                                                                  دي طلس جديده شنو   \n",
              "25384                                                                                                                                                   مسكينه الله يغفر   \n",
              "140066                                                                                  الاوبس زمن جدودنا كانت ملايه ومويه دافيه والمولود يطلع زي القمر هسي رفعوها السما   \n",
              "48902                                                                           الاغرب انهم بيقدموا علاقتهم طول الفيلم انها مش علاقه اخوات عاديه قال ايه قلبهم حاسس يعني   \n",
              "50611                                                                                               اللي يشتم المشير طنطاوي يبقي عبيط جماعه سيبوه لعبطه ربنا يعينه والله   \n",
              "54812                                                                                                                  اتكلمي احنا فاضيين وهنسمعك اديها الميكروفون انعوم   \n",
              "27749                                                                                                                   اتشاءالله ربي يرجعلك عقلك انتي اكيد انشفه الاخير   \n",
              "53805                                                                                                                                              قالك بتلبس الوان شهره   \n",
              "40158                                                          انا عم بفهم ناس شجعوا الطلاب اللي بتحبهم واولاد بلادكم وتركو الباقي اللي بتحبوا دخلكم ارتقوا وحترموا عيبب   \n",
              "17614                                                                                                                         يعني ضروري الواحد ايموت عشان تذكروه بالخير   \n",
              "3463                                                                                                                             تحس نص الليبين المتزوجين متطلقين عاطفيا   \n",
              "63681                                                                                                                                        الناس اللي بتحدف دبش جه وشي   \n",
              "82418                                                    برهامي اخطر نه بيسمم عقول الناس باسم الدين لكن مني برنس مش شيخه و راهبه مثلاومارقصتش الحرم الجامعي علشان تتعاقب   \n",
              "69803                                                            ايه اللي يخليه يشتغل معاهم سنه مش مستريح في التعامل معاهم حد عاقل يصدق ان الريس يعمل فندق مجامله لصديقه   \n",
              "100642                                                                                                                                        ربنا يرحمه وكل ولادنا يارب   \n",
              "44005                                                                واش كتكتبي بيدك رجليك هاذي هدره فهمت اه هدره ونقول نبغي اش دخلك مثلا موقع مغربي مادخلتش عندكم وكتبت   \n",
              "129620                                                                                            كفو كفو والله اقول والملك يدري يوم اجا الدوحه قبلها شهر يترقص الكورنيش   \n",
              "44074                                                                                                    راهم مصقيين بمغرفه وحده ضاربينها بصحبه خضرا معروفين كيضربو لتحت   \n",
              "132981                                                                                                  تحبوا تلعبوا غميضه كثير منيح الاستيذ ناطركم الباب ههععصولد واكبر   \n",
              "115769                                                                                                                     لا بعدين عم يحكو شخص مش الف ليفقعونا هالفلسفه   \n",
              "16936                                                                مفروض الجاي نحتفلو بيه زي الشيعه نشدوها ضرب جلد ترييش بعضنا عالعمله السوده اللي درناها لروحنا منقول   \n",
              "62561                                            انصحك مش محتاجك تفكرني انصح نفسي الاول عارف اني مش ملاك والله مش يمكن خايف ومش عايزك تغلط عشان ماتشوفش حاجه شوفتها قبلك   \n",
              "19577                                                            نكتبها وين مانبي نكتبها قاتل سفاح وربي ياخدلها بحقها واكيد في هلبا زيها مسكينات علاش تساوي ضحيه بجلادها   \n",
              "\n",
              "       dialect  \n",
              "87572       EG  \n",
              "108131      LB  \n",
              "67471       EG  \n",
              "127681      LB  \n",
              "108626      LB  \n",
              "110974      LB  \n",
              "27072       LY  \n",
              "84712       EG  \n",
              "74697       EG  \n",
              "39429       MA  \n",
              "97882       EG  \n",
              "72618       EG  \n",
              "115228      LB  \n",
              "19281       LY  \n",
              "76862       EG  \n",
              "57982       EG  \n",
              "24151       LY  \n",
              "129237      LB  \n",
              "57220       EG  \n",
              "1774        LY  \n",
              "143013      SD  \n",
              "38072       MA  \n",
              "24789       LY  \n",
              "145362      SD  \n",
              "121292      LB  \n",
              "41253       MA  \n",
              "91957       EG  \n",
              "135077      SD  \n",
              "25384       LY  \n",
              "140066      SD  \n",
              "48902       EG  \n",
              "50611       EG  \n",
              "54812       EG  \n",
              "27749       LY  \n",
              "53805       EG  \n",
              "40158       MA  \n",
              "17614       LY  \n",
              "3463        LY  \n",
              "63681       EG  \n",
              "82418       EG  \n",
              "69803       EG  \n",
              "100642      EG  \n",
              "44005       MA  \n",
              "129620      LB  \n",
              "44074       MA  \n",
              "132981      LB  \n",
              "115769      LB  \n",
              "16936       LY  \n",
              "62561       EG  \n",
              "19577       LY  "
            ],
            "text/html": [
              "\n",
              "  <div id=\"df-cac51223-6f7b-4775-8bfb-1ae1eae1675c\">\n",
              "    <div class=\"colab-df-container\">\n",
              "      <div>\n",
              "<style scoped>\n",
              "    .dataframe tbody tr th:only-of-type {\n",
              "        vertical-align: middle;\n",
              "    }\n",
              "\n",
              "    .dataframe tbody tr th {\n",
              "        vertical-align: top;\n",
              "    }\n",
              "\n",
              "    .dataframe thead th {\n",
              "        text-align: right;\n",
              "    }\n",
              "</style>\n",
              "<table border=\"1\" class=\"dataframe\">\n",
              "  <thead>\n",
              "    <tr style=\"text-align: right;\">\n",
              "      <th></th>\n",
              "      <th>text</th>\n",
              "      <th>dialect</th>\n",
              "    </tr>\n",
              "  </thead>\n",
              "  <tbody>\n",
              "    <tr>\n",
              "      <th>87572</th>\n",
              "      <td>يامءدب انا عايشه في مصر مش حينفع اشتمك للاسف حاكتفي ببلوك رقيق</td>\n",
              "      <td>EG</td>\n",
              "    </tr>\n",
              "    <tr>\n",
              "      <th>108131</th>\n",
              "      <td>رحت محل الفراريج قلتلو بدي فروج مشوي قلي شفت مبارح الجمهور الياباني نضف الدني رغم الخساره بالثواني الاخيره تاثرت كتير ومسكت دموعي واخدت الفروج توم زياده</td>\n",
              "      <td>LB</td>\n",
              "    </tr>\n",
              "    <tr>\n",
              "      <th>67471</th>\n",
              "      <td>مش بصدق الناس ده اوي مجدي لغتهم شء المبالغه تحس عايزين يوصلوا رساله يقصدونها يارب اكون غلطانه</td>\n",
              "      <td>EG</td>\n",
              "    </tr>\n",
              "    <tr>\n",
              "      <th>127681</th>\n",
              "      <td>يالطيف ياالله الطف بعبادك وشفيهم ياكريم يامعين ياالله</td>\n",
              "      <td>LB</td>\n",
              "    </tr>\n",
              "    <tr>\n",
              "      <th>108626</th>\n",
              "      <td>بتطلع قلبي بدرجه وحده ادفشك وتتدعبل بتسقط درجه اوعك تنسي</td>\n",
              "      <td>LB</td>\n",
              "    </tr>\n",
              "    <tr>\n",
              "      <th>110974</th>\n",
              "      <td>ممكن اعرف التظاهر ضد مين</td>\n",
              "      <td>LB</td>\n",
              "    </tr>\n",
              "    <tr>\n",
              "      <th>27072</th>\n",
              "      <td>جاوبت ربي يوفقك ويفرحك ويرزقك خيره وديري مشروع تجميل او اي مشروع انت تبيه يارب</td>\n",
              "      <td>LY</td>\n",
              "    </tr>\n",
              "    <tr>\n",
              "      <th>84712</th>\n",
              "      <td>جيمي اسف وبيحبك عارفه مرجعتيش وجيمي عمل نفسه حاجه</td>\n",
              "      <td>EG</td>\n",
              "    </tr>\n",
              "    <tr>\n",
              "      <th>74697</th>\n",
              "      <td>الزمن ساعتين وحبه عشان تستلم العربيه التوكيل والمهندس بيقولي دقايق بس</td>\n",
              "      <td>EG</td>\n",
              "    </tr>\n",
              "    <tr>\n",
              "      <th>39429</th>\n",
              "      <td>اسماعيل سمع سميتو طل او مشي قول سلام هه</td>\n",
              "      <td>MA</td>\n",
              "    </tr>\n",
              "    <tr>\n",
              "      <th>97882</th>\n",
              "      <td>طبعا فندم وربنا يحميهم غدر الغادرين</td>\n",
              "      <td>EG</td>\n",
              "    </tr>\n",
              "    <tr>\n",
              "      <th>72618</th>\n",
              "      <td>تسلمي الكل ربنايعز مقدارك</td>\n",
              "      <td>EG</td>\n",
              "    </tr>\n",
              "    <tr>\n",
              "      <th>115228</th>\n",
              "      <td>منحكي الا الحق نحنا</td>\n",
              "      <td>LB</td>\n",
              "    </tr>\n",
              "    <tr>\n",
              "      <th>19281</th>\n",
              "      <td>بنت ال ومعاها بنت منعو بريطانيا دارو لجوء</td>\n",
              "      <td>LY</td>\n",
              "    </tr>\n",
              "    <tr>\n",
              "      <th>76862</th>\n",
              "      <td>وادي اتنين اصحابي هيبلغوا الناس ومساء الفل عليكوا</td>\n",
              "      <td>EG</td>\n",
              "    </tr>\n",
              "    <tr>\n",
              "      <th>57982</th>\n",
              "      <td>جايه الصعب ماشيه فات عليكي ليل وميه واحتمالك وابتسامتك هي هي تضحكي للصبح يصبح ليله ومغربيه تطلع الشمس تلاقيكي معجبانيه وصبيه</td>\n",
              "      <td>EG</td>\n",
              "    </tr>\n",
              "    <tr>\n",
              "      <th>24151</th>\n",
              "      <td>زعلان منك راه وحتي والله زعلان مني وكلنا زعلانين مني عادي</td>\n",
              "      <td>LY</td>\n",
              "    </tr>\n",
              "    <tr>\n",
              "      <th>129237</th>\n",
              "      <td>بعرف شو هالقوي بكل شي بهالبرنامج بالضيوف والاعداد والهضامه انا كتير بحبكن لهون وبس</td>\n",
              "      <td>LB</td>\n",
              "    </tr>\n",
              "    <tr>\n",
              "      <th>57220</th>\n",
              "      <td>اوروبا اللي هاروحها اكيد مافهاش برد</td>\n",
              "      <td>EG</td>\n",
              "    </tr>\n",
              "    <tr>\n",
              "      <th>1774</th>\n",
              "      <td>احلي خبرر كتير مبسوطه قصقص بفيلم مصري ولاول مره بدور شريف ناهي قريبا رح ينعرض القصه مستوحي الحقيقه ناطرينك حبيبي والف مبرووك والله يوفقك ويكون معك يارب العالمين</td>\n",
              "      <td>LY</td>\n",
              "    </tr>\n",
              "    <tr>\n",
              "      <th>143013</th>\n",
              "      <td>جادي انتا كلامك دا</td>\n",
              "      <td>SD</td>\n",
              "    </tr>\n",
              "    <tr>\n",
              "      <th>38072</th>\n",
              "      <td>كفايه عليكم سبولنا احنا الكاس المره دي</td>\n",
              "      <td>MA</td>\n",
              "    </tr>\n",
              "    <tr>\n",
              "      <th>24789</th>\n",
              "      <td>يذكروني بسعر الدولار اليوم</td>\n",
              "      <td>LY</td>\n",
              "    </tr>\n",
              "    <tr>\n",
              "      <th>145362</th>\n",
              "      <td>اهم شي الشاحن يكون اصلي</td>\n",
              "      <td>SD</td>\n",
              "    </tr>\n",
              "    <tr>\n",
              "      <th>121292</th>\n",
              "      <td>شو اشبك انش تاين حدا شايفك ارضك بدك تعطي اهميه لحالك اكتر روح حديقه الحيوانات</td>\n",
              "      <td>LB</td>\n",
              "    </tr>\n",
              "    <tr>\n",
              "      <th>41253</th>\n",
              "      <td>نقولو العكر ماكاينش السروال المقطع كولو كون دارو يبان شي</td>\n",
              "      <td>MA</td>\n",
              "    </tr>\n",
              "    <tr>\n",
              "      <th>91957</th>\n",
              "      <td>منور حبي ووحشتني بقالك كام يوم مختفي</td>\n",
              "      <td>EG</td>\n",
              "    </tr>\n",
              "    <tr>\n",
              "      <th>135077</th>\n",
              "      <td>دي طلس جديده شنو</td>\n",
              "      <td>SD</td>\n",
              "    </tr>\n",
              "    <tr>\n",
              "      <th>25384</th>\n",
              "      <td>مسكينه الله يغفر</td>\n",
              "      <td>LY</td>\n",
              "    </tr>\n",
              "    <tr>\n",
              "      <th>140066</th>\n",
              "      <td>الاوبس زمن جدودنا كانت ملايه ومويه دافيه والمولود يطلع زي القمر هسي رفعوها السما</td>\n",
              "      <td>SD</td>\n",
              "    </tr>\n",
              "    <tr>\n",
              "      <th>48902</th>\n",
              "      <td>الاغرب انهم بيقدموا علاقتهم طول الفيلم انها مش علاقه اخوات عاديه قال ايه قلبهم حاسس يعني</td>\n",
              "      <td>EG</td>\n",
              "    </tr>\n",
              "    <tr>\n",
              "      <th>50611</th>\n",
              "      <td>اللي يشتم المشير طنطاوي يبقي عبيط جماعه سيبوه لعبطه ربنا يعينه والله</td>\n",
              "      <td>EG</td>\n",
              "    </tr>\n",
              "    <tr>\n",
              "      <th>54812</th>\n",
              "      <td>اتكلمي احنا فاضيين وهنسمعك اديها الميكروفون انعوم</td>\n",
              "      <td>EG</td>\n",
              "    </tr>\n",
              "    <tr>\n",
              "      <th>27749</th>\n",
              "      <td>اتشاءالله ربي يرجعلك عقلك انتي اكيد انشفه الاخير</td>\n",
              "      <td>LY</td>\n",
              "    </tr>\n",
              "    <tr>\n",
              "      <th>53805</th>\n",
              "      <td>قالك بتلبس الوان شهره</td>\n",
              "      <td>EG</td>\n",
              "    </tr>\n",
              "    <tr>\n",
              "      <th>40158</th>\n",
              "      <td>انا عم بفهم ناس شجعوا الطلاب اللي بتحبهم واولاد بلادكم وتركو الباقي اللي بتحبوا دخلكم ارتقوا وحترموا عيبب</td>\n",
              "      <td>MA</td>\n",
              "    </tr>\n",
              "    <tr>\n",
              "      <th>17614</th>\n",
              "      <td>يعني ضروري الواحد ايموت عشان تذكروه بالخير</td>\n",
              "      <td>LY</td>\n",
              "    </tr>\n",
              "    <tr>\n",
              "      <th>3463</th>\n",
              "      <td>تحس نص الليبين المتزوجين متطلقين عاطفيا</td>\n",
              "      <td>LY</td>\n",
              "    </tr>\n",
              "    <tr>\n",
              "      <th>63681</th>\n",
              "      <td>الناس اللي بتحدف دبش جه وشي</td>\n",
              "      <td>EG</td>\n",
              "    </tr>\n",
              "    <tr>\n",
              "      <th>82418</th>\n",
              "      <td>برهامي اخطر نه بيسمم عقول الناس باسم الدين لكن مني برنس مش شيخه و راهبه مثلاومارقصتش الحرم الجامعي علشان تتعاقب</td>\n",
              "      <td>EG</td>\n",
              "    </tr>\n",
              "    <tr>\n",
              "      <th>69803</th>\n",
              "      <td>ايه اللي يخليه يشتغل معاهم سنه مش مستريح في التعامل معاهم حد عاقل يصدق ان الريس يعمل فندق مجامله لصديقه</td>\n",
              "      <td>EG</td>\n",
              "    </tr>\n",
              "    <tr>\n",
              "      <th>100642</th>\n",
              "      <td>ربنا يرحمه وكل ولادنا يارب</td>\n",
              "      <td>EG</td>\n",
              "    </tr>\n",
              "    <tr>\n",
              "      <th>44005</th>\n",
              "      <td>واش كتكتبي بيدك رجليك هاذي هدره فهمت اه هدره ونقول نبغي اش دخلك مثلا موقع مغربي مادخلتش عندكم وكتبت</td>\n",
              "      <td>MA</td>\n",
              "    </tr>\n",
              "    <tr>\n",
              "      <th>129620</th>\n",
              "      <td>كفو كفو والله اقول والملك يدري يوم اجا الدوحه قبلها شهر يترقص الكورنيش</td>\n",
              "      <td>LB</td>\n",
              "    </tr>\n",
              "    <tr>\n",
              "      <th>44074</th>\n",
              "      <td>راهم مصقيين بمغرفه وحده ضاربينها بصحبه خضرا معروفين كيضربو لتحت</td>\n",
              "      <td>MA</td>\n",
              "    </tr>\n",
              "    <tr>\n",
              "      <th>132981</th>\n",
              "      <td>تحبوا تلعبوا غميضه كثير منيح الاستيذ ناطركم الباب ههععصولد واكبر</td>\n",
              "      <td>LB</td>\n",
              "    </tr>\n",
              "    <tr>\n",
              "      <th>115769</th>\n",
              "      <td>لا بعدين عم يحكو شخص مش الف ليفقعونا هالفلسفه</td>\n",
              "      <td>LB</td>\n",
              "    </tr>\n",
              "    <tr>\n",
              "      <th>16936</th>\n",
              "      <td>مفروض الجاي نحتفلو بيه زي الشيعه نشدوها ضرب جلد ترييش بعضنا عالعمله السوده اللي درناها لروحنا منقول</td>\n",
              "      <td>LY</td>\n",
              "    </tr>\n",
              "    <tr>\n",
              "      <th>62561</th>\n",
              "      <td>انصحك مش محتاجك تفكرني انصح نفسي الاول عارف اني مش ملاك والله مش يمكن خايف ومش عايزك تغلط عشان ماتشوفش حاجه شوفتها قبلك</td>\n",
              "      <td>EG</td>\n",
              "    </tr>\n",
              "    <tr>\n",
              "      <th>19577</th>\n",
              "      <td>نكتبها وين مانبي نكتبها قاتل سفاح وربي ياخدلها بحقها واكيد في هلبا زيها مسكينات علاش تساوي ضحيه بجلادها</td>\n",
              "      <td>LY</td>\n",
              "    </tr>\n",
              "  </tbody>\n",
              "</table>\n",
              "</div>\n",
              "      <button class=\"colab-df-convert\" onclick=\"convertToInteractive('df-cac51223-6f7b-4775-8bfb-1ae1eae1675c')\"\n",
              "              title=\"Convert this dataframe to an interactive table.\"\n",
              "              style=\"display:none;\">\n",
              "        \n",
              "  <svg xmlns=\"http://www.w3.org/2000/svg\" height=\"24px\"viewBox=\"0 0 24 24\"\n",
              "       width=\"24px\">\n",
              "    <path d=\"M0 0h24v24H0V0z\" fill=\"none\"/>\n",
              "    <path d=\"M18.56 5.44l.94 2.06.94-2.06 2.06-.94-2.06-.94-.94-2.06-.94 2.06-2.06.94zm-11 1L8.5 8.5l.94-2.06 2.06-.94-2.06-.94L8.5 2.5l-.94 2.06-2.06.94zm10 10l.94 2.06.94-2.06 2.06-.94-2.06-.94-.94-2.06-.94 2.06-2.06.94z\"/><path d=\"M17.41 7.96l-1.37-1.37c-.4-.4-.92-.59-1.43-.59-.52 0-1.04.2-1.43.59L10.3 9.45l-7.72 7.72c-.78.78-.78 2.05 0 2.83L4 21.41c.39.39.9.59 1.41.59.51 0 1.02-.2 1.41-.59l7.78-7.78 2.81-2.81c.8-.78.8-2.07 0-2.86zM5.41 20L4 18.59l7.72-7.72 1.47 1.35L5.41 20z\"/>\n",
              "  </svg>\n",
              "      </button>\n",
              "      \n",
              "  <style>\n",
              "    .colab-df-container {\n",
              "      display:flex;\n",
              "      flex-wrap:wrap;\n",
              "      gap: 12px;\n",
              "    }\n",
              "\n",
              "    .colab-df-convert {\n",
              "      background-color: #E8F0FE;\n",
              "      border: none;\n",
              "      border-radius: 50%;\n",
              "      cursor: pointer;\n",
              "      display: none;\n",
              "      fill: #1967D2;\n",
              "      height: 32px;\n",
              "      padding: 0 0 0 0;\n",
              "      width: 32px;\n",
              "    }\n",
              "\n",
              "    .colab-df-convert:hover {\n",
              "      background-color: #E2EBFA;\n",
              "      box-shadow: 0px 1px 2px rgba(60, 64, 67, 0.3), 0px 1px 3px 1px rgba(60, 64, 67, 0.15);\n",
              "      fill: #174EA6;\n",
              "    }\n",
              "\n",
              "    [theme=dark] .colab-df-convert {\n",
              "      background-color: #3B4455;\n",
              "      fill: #D2E3FC;\n",
              "    }\n",
              "\n",
              "    [theme=dark] .colab-df-convert:hover {\n",
              "      background-color: #434B5C;\n",
              "      box-shadow: 0px 1px 3px 1px rgba(0, 0, 0, 0.15);\n",
              "      filter: drop-shadow(0px 1px 2px rgba(0, 0, 0, 0.3));\n",
              "      fill: #FFFFFF;\n",
              "    }\n",
              "  </style>\n",
              "\n",
              "      <script>\n",
              "        const buttonEl =\n",
              "          document.querySelector('#df-cac51223-6f7b-4775-8bfb-1ae1eae1675c button.colab-df-convert');\n",
              "        buttonEl.style.display =\n",
              "          google.colab.kernel.accessAllowed ? 'block' : 'none';\n",
              "\n",
              "        async function convertToInteractive(key) {\n",
              "          const element = document.querySelector('#df-cac51223-6f7b-4775-8bfb-1ae1eae1675c');\n",
              "          const dataTable =\n",
              "            await google.colab.kernel.invokeFunction('convertToInteractive',\n",
              "                                                     [key], {});\n",
              "          if (!dataTable) return;\n",
              "\n",
              "          const docLinkHtml = 'Like what you see? Visit the ' +\n",
              "            '<a target=\"_blank\" href=https://colab.research.google.com/notebooks/data_table.ipynb>data table notebook</a>'\n",
              "            + ' to learn more about interactive tables.';\n",
              "          element.innerHTML = '';\n",
              "          dataTable['output_type'] = 'display_data';\n",
              "          await google.colab.output.renderOutput(dataTable, element);\n",
              "          const docLink = document.createElement('div');\n",
              "          docLink.innerHTML = docLinkHtml;\n",
              "          element.appendChild(docLink);\n",
              "        }\n",
              "      </script>\n",
              "    </div>\n",
              "  </div>\n",
              "  "
            ]
          },
          "metadata": {},
          "execution_count": 35
        }
      ],
      "source": [
        "df.sample(50)"
      ]
    },
    {
      "cell_type": "markdown",
      "metadata": {
        "id": "OVFSKn14D81v"
      },
      "source": [
        "##**Label Encoding**"
      ]
    },
    {
      "cell_type": "code",
      "execution_count": null,
      "metadata": {
        "id": "rs9vW87Rgo4p"
      },
      "outputs": [],
      "source": [
        "encoding = preprocessing.LabelEncoder()\n",
        "\n",
        "# using fit transform on the data\n",
        "y = encoding.fit_transform(df.dialect.values)\n",
        "\n",
        "# replace dialec column with the encoded\n",
        "df['dialect'] = y"
      ]
    },
    {
      "cell_type": "code",
      "execution_count": null,
      "metadata": {
        "colab": {
          "base_uri": "https://localhost:8080/",
          "height": 1000
        },
        "id": "6BcXGwaSg1CY",
        "outputId": "de8f305a-b44e-451d-dad7-a44a9bcec631"
      },
      "outputs": [
        {
          "output_type": "execute_result",
          "data": {
            "text/plain": [
              "                                                                                                                                                                                                                                          text  \\\n",
              "31703                                                                                                                                                                                                       اكيد مااركب السياره وتعودت لسلامتي   \n",
              "79221                 ازيك عبد الرحمن مالك ولدي قول اللي انت عوز تقوله انا نفسي متقبله منك اي حاجه اكتب واكتب كمان وكمان ربنا يقدرك ويعفي عنك ويشفيك اوعي تضعف والله ياريت اقدر كنت جيت زورتك اجمد يابطل وان شاء الله خير اللي يجيبوا ربنا خير   \n",
              "128328                                                                                                                                                                                                           ازا مطوله وبكل وقاحه كاتبينها   \n",
              "74160                                                                                                                                                                                                                        والله حد عارف ايه   \n",
              "146003                                                                                                                                                                             كلو خير احتمال الله خاتي ليك الاحسن وبضيق عشان تفرج النهايه   \n",
              "19364                                                                                                                                                                                                  صور ناس يبتسمو عندهمش سنون زي بيبي مثلا   \n",
              "123160                                                                                                                           طب انا كوحده معي فوبيا الابر المستشفي كلها بتعرف اني رح اخد ابره ويسترجي حدن يحكيلي كلمه عشان حط الابره بنيعو   \n",
              "17423                                                                                                                                                                                                                             اه طفيت الضي   \n",
              "122333                                                                                                                                                                                                               تحياتنا للزعماء اللبنانيه   \n",
              "138323                                                                                                                                                                                                   وانت مالك متعصبه كدا روقي المنقه شويه   \n",
              "39998          انا كنت بخالك هاذ سيمانه كنت كنحس انني وحيده وحتي حاجه مزوينه ملل متخليش هاذ شعور يتغلب متبقايش بوحيدتك تعرفي اصدقاء جدد فحياتك ديري شنو كتبغي شنو كيفرحك خرجي تمشاي الا حداك البحر قراي الا كنتي كتبغي تقراي غير متغلقيش الباب   \n",
              "62580                                                                                                                                                                                                                  عايزه حد يذاكرلي ويحضني   \n",
              "29177                                                                                                                                                                  بوجودك راس والله انا لفرحت بيك اقل شي نعرفو اخبارك وحالك وربي يحفظك خوي   \n",
              "104291                                                                                        ماده الي بيتكلم عنه امس عمرو اديب تسريبات اتفاقيه القرن بلد فلسطنين ياخد كام علي الراس ويخليه عنده يجنسه يعمل الي عايزه القانون ده بيقول الراس ب   \n",
              "34706                                                                                                                                                                                                       قداش حشيشتك تنرفز غيرك وتحرقله دمه   \n",
              "68006                                                                                                                                                                                                      معقول الدول ده بتمثل بهذا الشكل اشك   \n",
              "141595                                                                                                                                                                                                                     شوف العاطل ده بالله   \n",
              "21708                                                                                                                                                         جمل عرسه عزم الحيوانات كلهم ماعدا البقره خايف جنون البقر جاته البقره العرس وتغني   \n",
              "141611                ياخوانا انا مقضيها السان ده اقسم بالله بطلع وسخان مبالغ اجمد مصري ممكن الواحد يحضر ليهو تقول الفديو طويل وميقابايتات والكلام الفاضي ده انت اول دقايق الكلام وتاني بتكسر حنك النت والله العظيم اقسم بالله اقسم بالله تاني   \n",
              "7016                                                         عندي صديق جماعه الصخيرات وداعم ليها ويحكي لبوه وقنع بوه يوم يتفرجو علي التلفزيون جابو السراج الاب يسال اللي تحكي قاله تي نوض جنبي والله تفهمو حاجه شكل راجل يحكم بلاد شيباني فاهم   \n",
              "35617                                                                                                                                                                                                                    شراميط المجتمع المدني   \n",
              "4046                                                                                                                                                                                                       وسخ داعشي جايه يوم معاش حيشوف الشمس   \n",
              "110598                                                                                                                                           عم اتخيل اذا عملت بالصف وانا طلابي شباب وصبايا شو ممكن يصير ايه والله ليحرموني فوت عصف بحياتي   \n",
              "35113                                                                                           هه علي اساس منعونا دخول باريس اقتنعو ان انضف واحسن منهم شيو اقتنعو ان ليبيا سكرت علي مصر بيصيرلها مشاكل ناحيه عماله تجاره وسياحه را جزاء دخلهم   \n",
              "54212                                                                                                                                                                                                   بغيت نمشي شي بلاصه مقفوله زي الدومينوز   \n",
              "98237   حضرتك جابوه وقالوله هات مستنداتك ماجابش اي ورق فبقي مخالف للقانون بس خلاص والحاج عنان اعلن ترشحه لسه مستدعي عسكري ماياخد موافقه المجلس العسكري بقي مخالف للقانون بس خلاص والفريق شفيق دوره انت فاهم خالص هو لسه مصر علي فكره معزز مكرم   \n",
              "79632                             هه عرفتي ان البطولات والكءوس والدروع تاتي بالشتيمه والتهديد وبلاش حكايه القرعه اللي بتتعاجب بشعر بنت خاله اخت ابوها الاهلي بيتغلب طوب الارض انما متخصص في هزيمه الزمالك خللي روحك رياضيه وتعيشو وتاخدو غيرها   \n",
              "17338                                                                                                                                                                                                                        فزت بيها التغريده   \n",
              "88041                                                                                                                                                                                                               مش موافقين بسبب الشغل حلال   \n",
              "18402                                                                                                                                                           انا كنت ننفخ عجل السياره قدام اركان مول قبلها بشوي وماعا ولدي والله لمنجي حاضر   \n",
              "132668                                                                                                                                                             الله يرحم شهيد لبنان الغالي مثواه الجنه ومع الغالي الشيخ سعدد هنكمل المشوار   \n",
              "145176                                                                                                                                                                                                             ان شاء الله دايما مبسوطه رب   \n",
              "40459                                                                                                                                                                                                    ازد حتيكين تكيت اشلحياوا برك دارنح هه   \n",
              "126518                                                                                                                                                                                    ناس عندهم لحمه بيعزموا ناس عندها لحمه عشان تاكل لحمه   \n",
              "23257                                                                                                                                                                           مافيش شي ماينجبر حطيها في راسك وتلقيهم مبسوطين وانتي حارقه دمك   \n",
              "136091                                                                                                                                                                                                               اكيد لانو ولدي حيكون عقيم   \n",
              "138071                                                                                                                                                                                         الزول ده ليه مصر يلعب كوره وهم ليه مصرين يلعبوه   \n",
              "128901                                                                                                                                                                                                               الله بيشتروا المسبه مشتري   \n",
              "35365                                                                                                                                                                                                              هه مسكينه ماشفهتش تكلمت بكل   \n",
              "87351                                                                                                                                                                          معلش يااشرف للاسف الرءيه مش واضحه كتير المصريين ربنا يحفظ بلدنا   \n",
              "99612                                                                                                                                                          الناس اللي بتتكلم علي مرات البيج رامي انتو عندكو عقم تفكير مبيتعالجش اقسم بالله   \n",
              "14822                                                                                                                                                    اصل بنزيما لاعب كبير وكان رونالدو مغطي واول طلع رونالدو حينفجر وتشوفوا بنزيما الحقيقي   \n",
              "88367                                                                                                                                                                                       الروايه الرسميه للانفجارات علشان ناخدها كوبي وبيست   \n",
              "62290                                                                                                                                                                                           اتوقع كين نفسه مختار صلاح كبتن لفريقه الفانتسي   \n",
              "103430                                                                                              فروقات مبدا الشوبينج الرجاله الستات الراجل بيشوف الحاجه الڨاترينه يدخل يشتريها الست تدخل تشوف القماش طريقه الخياطه مصنوعه فين و تمشي تشتري   \n",
              "18619                                                                                                                                                                                                             افلق وانا ظهرك اي ول كفر يوو   \n",
              "47555                                                       كنقري شي تدوينات شي وحدين قوسين مناضلين نشطاء مزال معارف واش خارجه قناعه فقط للبهرجه تحقيق حلم العبور لاوروبا عبر اللجوء اللي غالب ينتهي بالرفض الترحيل بلا مندخلوا الركاكه شي حمل   \n",
              "141325                                                                                                         داير يحرر فلسطين تويتر عشان الفاظكم البذيءه دي وسبكم للخالق الله سلط عليكم اليهود وسخ وحيكونوا راكبنكم كده لحدي يوم القيامه كلب   \n",
              "5793                                                                                                                                                                                                              هه يكلم جماعه تعالو فكو عليا   \n",
              "78909                                                                                                                                                                                                            اسكندريه بحرك مجاري عمرو شوقي   \n",
              "\n",
              "        dialect  \n",
              "31703         2  \n",
              "79221         0  \n",
              "128328        1  \n",
              "74160         0  \n",
              "146003        4  \n",
              "19364         2  \n",
              "123160        1  \n",
              "17423         2  \n",
              "122333        1  \n",
              "138323        4  \n",
              "39998         3  \n",
              "62580         0  \n",
              "29177         2  \n",
              "104291        0  \n",
              "34706         2  \n",
              "68006         0  \n",
              "141595        4  \n",
              "21708         2  \n",
              "141611        4  \n",
              "7016          2  \n",
              "35617         2  \n",
              "4046          2  \n",
              "110598        1  \n",
              "35113         2  \n",
              "54212         0  \n",
              "98237         0  \n",
              "79632         0  \n",
              "17338         2  \n",
              "88041         0  \n",
              "18402         2  \n",
              "132668        1  \n",
              "145176        4  \n",
              "40459         3  \n",
              "126518        1  \n",
              "23257         2  \n",
              "136091        4  \n",
              "138071        4  \n",
              "128901        1  \n",
              "35365         2  \n",
              "87351         0  \n",
              "99612         0  \n",
              "14822         2  \n",
              "88367         0  \n",
              "62290         0  \n",
              "103430        0  \n",
              "18619         2  \n",
              "47555         3  \n",
              "141325        4  \n",
              "5793          2  \n",
              "78909         0  "
            ],
            "text/html": [
              "\n",
              "  <div id=\"df-8744296a-4978-48d7-a74c-244d49693d0a\">\n",
              "    <div class=\"colab-df-container\">\n",
              "      <div>\n",
              "<style scoped>\n",
              "    .dataframe tbody tr th:only-of-type {\n",
              "        vertical-align: middle;\n",
              "    }\n",
              "\n",
              "    .dataframe tbody tr th {\n",
              "        vertical-align: top;\n",
              "    }\n",
              "\n",
              "    .dataframe thead th {\n",
              "        text-align: right;\n",
              "    }\n",
              "</style>\n",
              "<table border=\"1\" class=\"dataframe\">\n",
              "  <thead>\n",
              "    <tr style=\"text-align: right;\">\n",
              "      <th></th>\n",
              "      <th>text</th>\n",
              "      <th>dialect</th>\n",
              "    </tr>\n",
              "  </thead>\n",
              "  <tbody>\n",
              "    <tr>\n",
              "      <th>31703</th>\n",
              "      <td>اكيد مااركب السياره وتعودت لسلامتي</td>\n",
              "      <td>2</td>\n",
              "    </tr>\n",
              "    <tr>\n",
              "      <th>79221</th>\n",
              "      <td>ازيك عبد الرحمن مالك ولدي قول اللي انت عوز تقوله انا نفسي متقبله منك اي حاجه اكتب واكتب كمان وكمان ربنا يقدرك ويعفي عنك ويشفيك اوعي تضعف والله ياريت اقدر كنت جيت زورتك اجمد يابطل وان شاء الله خير اللي يجيبوا ربنا خير</td>\n",
              "      <td>0</td>\n",
              "    </tr>\n",
              "    <tr>\n",
              "      <th>128328</th>\n",
              "      <td>ازا مطوله وبكل وقاحه كاتبينها</td>\n",
              "      <td>1</td>\n",
              "    </tr>\n",
              "    <tr>\n",
              "      <th>74160</th>\n",
              "      <td>والله حد عارف ايه</td>\n",
              "      <td>0</td>\n",
              "    </tr>\n",
              "    <tr>\n",
              "      <th>146003</th>\n",
              "      <td>كلو خير احتمال الله خاتي ليك الاحسن وبضيق عشان تفرج النهايه</td>\n",
              "      <td>4</td>\n",
              "    </tr>\n",
              "    <tr>\n",
              "      <th>19364</th>\n",
              "      <td>صور ناس يبتسمو عندهمش سنون زي بيبي مثلا</td>\n",
              "      <td>2</td>\n",
              "    </tr>\n",
              "    <tr>\n",
              "      <th>123160</th>\n",
              "      <td>طب انا كوحده معي فوبيا الابر المستشفي كلها بتعرف اني رح اخد ابره ويسترجي حدن يحكيلي كلمه عشان حط الابره بنيعو</td>\n",
              "      <td>1</td>\n",
              "    </tr>\n",
              "    <tr>\n",
              "      <th>17423</th>\n",
              "      <td>اه طفيت الضي</td>\n",
              "      <td>2</td>\n",
              "    </tr>\n",
              "    <tr>\n",
              "      <th>122333</th>\n",
              "      <td>تحياتنا للزعماء اللبنانيه</td>\n",
              "      <td>1</td>\n",
              "    </tr>\n",
              "    <tr>\n",
              "      <th>138323</th>\n",
              "      <td>وانت مالك متعصبه كدا روقي المنقه شويه</td>\n",
              "      <td>4</td>\n",
              "    </tr>\n",
              "    <tr>\n",
              "      <th>39998</th>\n",
              "      <td>انا كنت بخالك هاذ سيمانه كنت كنحس انني وحيده وحتي حاجه مزوينه ملل متخليش هاذ شعور يتغلب متبقايش بوحيدتك تعرفي اصدقاء جدد فحياتك ديري شنو كتبغي شنو كيفرحك خرجي تمشاي الا حداك البحر قراي الا كنتي كتبغي تقراي غير متغلقيش الباب</td>\n",
              "      <td>3</td>\n",
              "    </tr>\n",
              "    <tr>\n",
              "      <th>62580</th>\n",
              "      <td>عايزه حد يذاكرلي ويحضني</td>\n",
              "      <td>0</td>\n",
              "    </tr>\n",
              "    <tr>\n",
              "      <th>29177</th>\n",
              "      <td>بوجودك راس والله انا لفرحت بيك اقل شي نعرفو اخبارك وحالك وربي يحفظك خوي</td>\n",
              "      <td>2</td>\n",
              "    </tr>\n",
              "    <tr>\n",
              "      <th>104291</th>\n",
              "      <td>ماده الي بيتكلم عنه امس عمرو اديب تسريبات اتفاقيه القرن بلد فلسطنين ياخد كام علي الراس ويخليه عنده يجنسه يعمل الي عايزه القانون ده بيقول الراس ب</td>\n",
              "      <td>0</td>\n",
              "    </tr>\n",
              "    <tr>\n",
              "      <th>34706</th>\n",
              "      <td>قداش حشيشتك تنرفز غيرك وتحرقله دمه</td>\n",
              "      <td>2</td>\n",
              "    </tr>\n",
              "    <tr>\n",
              "      <th>68006</th>\n",
              "      <td>معقول الدول ده بتمثل بهذا الشكل اشك</td>\n",
              "      <td>0</td>\n",
              "    </tr>\n",
              "    <tr>\n",
              "      <th>141595</th>\n",
              "      <td>شوف العاطل ده بالله</td>\n",
              "      <td>4</td>\n",
              "    </tr>\n",
              "    <tr>\n",
              "      <th>21708</th>\n",
              "      <td>جمل عرسه عزم الحيوانات كلهم ماعدا البقره خايف جنون البقر جاته البقره العرس وتغني</td>\n",
              "      <td>2</td>\n",
              "    </tr>\n",
              "    <tr>\n",
              "      <th>141611</th>\n",
              "      <td>ياخوانا انا مقضيها السان ده اقسم بالله بطلع وسخان مبالغ اجمد مصري ممكن الواحد يحضر ليهو تقول الفديو طويل وميقابايتات والكلام الفاضي ده انت اول دقايق الكلام وتاني بتكسر حنك النت والله العظيم اقسم بالله اقسم بالله تاني</td>\n",
              "      <td>4</td>\n",
              "    </tr>\n",
              "    <tr>\n",
              "      <th>7016</th>\n",
              "      <td>عندي صديق جماعه الصخيرات وداعم ليها ويحكي لبوه وقنع بوه يوم يتفرجو علي التلفزيون جابو السراج الاب يسال اللي تحكي قاله تي نوض جنبي والله تفهمو حاجه شكل راجل يحكم بلاد شيباني فاهم</td>\n",
              "      <td>2</td>\n",
              "    </tr>\n",
              "    <tr>\n",
              "      <th>35617</th>\n",
              "      <td>شراميط المجتمع المدني</td>\n",
              "      <td>2</td>\n",
              "    </tr>\n",
              "    <tr>\n",
              "      <th>4046</th>\n",
              "      <td>وسخ داعشي جايه يوم معاش حيشوف الشمس</td>\n",
              "      <td>2</td>\n",
              "    </tr>\n",
              "    <tr>\n",
              "      <th>110598</th>\n",
              "      <td>عم اتخيل اذا عملت بالصف وانا طلابي شباب وصبايا شو ممكن يصير ايه والله ليحرموني فوت عصف بحياتي</td>\n",
              "      <td>1</td>\n",
              "    </tr>\n",
              "    <tr>\n",
              "      <th>35113</th>\n",
              "      <td>هه علي اساس منعونا دخول باريس اقتنعو ان انضف واحسن منهم شيو اقتنعو ان ليبيا سكرت علي مصر بيصيرلها مشاكل ناحيه عماله تجاره وسياحه را جزاء دخلهم</td>\n",
              "      <td>2</td>\n",
              "    </tr>\n",
              "    <tr>\n",
              "      <th>54212</th>\n",
              "      <td>بغيت نمشي شي بلاصه مقفوله زي الدومينوز</td>\n",
              "      <td>0</td>\n",
              "    </tr>\n",
              "    <tr>\n",
              "      <th>98237</th>\n",
              "      <td>حضرتك جابوه وقالوله هات مستنداتك ماجابش اي ورق فبقي مخالف للقانون بس خلاص والحاج عنان اعلن ترشحه لسه مستدعي عسكري ماياخد موافقه المجلس العسكري بقي مخالف للقانون بس خلاص والفريق شفيق دوره انت فاهم خالص هو لسه مصر علي فكره معزز مكرم</td>\n",
              "      <td>0</td>\n",
              "    </tr>\n",
              "    <tr>\n",
              "      <th>79632</th>\n",
              "      <td>هه عرفتي ان البطولات والكءوس والدروع تاتي بالشتيمه والتهديد وبلاش حكايه القرعه اللي بتتعاجب بشعر بنت خاله اخت ابوها الاهلي بيتغلب طوب الارض انما متخصص في هزيمه الزمالك خللي روحك رياضيه وتعيشو وتاخدو غيرها</td>\n",
              "      <td>0</td>\n",
              "    </tr>\n",
              "    <tr>\n",
              "      <th>17338</th>\n",
              "      <td>فزت بيها التغريده</td>\n",
              "      <td>2</td>\n",
              "    </tr>\n",
              "    <tr>\n",
              "      <th>88041</th>\n",
              "      <td>مش موافقين بسبب الشغل حلال</td>\n",
              "      <td>0</td>\n",
              "    </tr>\n",
              "    <tr>\n",
              "      <th>18402</th>\n",
              "      <td>انا كنت ننفخ عجل السياره قدام اركان مول قبلها بشوي وماعا ولدي والله لمنجي حاضر</td>\n",
              "      <td>2</td>\n",
              "    </tr>\n",
              "    <tr>\n",
              "      <th>132668</th>\n",
              "      <td>الله يرحم شهيد لبنان الغالي مثواه الجنه ومع الغالي الشيخ سعدد هنكمل المشوار</td>\n",
              "      <td>1</td>\n",
              "    </tr>\n",
              "    <tr>\n",
              "      <th>145176</th>\n",
              "      <td>ان شاء الله دايما مبسوطه رب</td>\n",
              "      <td>4</td>\n",
              "    </tr>\n",
              "    <tr>\n",
              "      <th>40459</th>\n",
              "      <td>ازد حتيكين تكيت اشلحياوا برك دارنح هه</td>\n",
              "      <td>3</td>\n",
              "    </tr>\n",
              "    <tr>\n",
              "      <th>126518</th>\n",
              "      <td>ناس عندهم لحمه بيعزموا ناس عندها لحمه عشان تاكل لحمه</td>\n",
              "      <td>1</td>\n",
              "    </tr>\n",
              "    <tr>\n",
              "      <th>23257</th>\n",
              "      <td>مافيش شي ماينجبر حطيها في راسك وتلقيهم مبسوطين وانتي حارقه دمك</td>\n",
              "      <td>2</td>\n",
              "    </tr>\n",
              "    <tr>\n",
              "      <th>136091</th>\n",
              "      <td>اكيد لانو ولدي حيكون عقيم</td>\n",
              "      <td>4</td>\n",
              "    </tr>\n",
              "    <tr>\n",
              "      <th>138071</th>\n",
              "      <td>الزول ده ليه مصر يلعب كوره وهم ليه مصرين يلعبوه</td>\n",
              "      <td>4</td>\n",
              "    </tr>\n",
              "    <tr>\n",
              "      <th>128901</th>\n",
              "      <td>الله بيشتروا المسبه مشتري</td>\n",
              "      <td>1</td>\n",
              "    </tr>\n",
              "    <tr>\n",
              "      <th>35365</th>\n",
              "      <td>هه مسكينه ماشفهتش تكلمت بكل</td>\n",
              "      <td>2</td>\n",
              "    </tr>\n",
              "    <tr>\n",
              "      <th>87351</th>\n",
              "      <td>معلش يااشرف للاسف الرءيه مش واضحه كتير المصريين ربنا يحفظ بلدنا</td>\n",
              "      <td>0</td>\n",
              "    </tr>\n",
              "    <tr>\n",
              "      <th>99612</th>\n",
              "      <td>الناس اللي بتتكلم علي مرات البيج رامي انتو عندكو عقم تفكير مبيتعالجش اقسم بالله</td>\n",
              "      <td>0</td>\n",
              "    </tr>\n",
              "    <tr>\n",
              "      <th>14822</th>\n",
              "      <td>اصل بنزيما لاعب كبير وكان رونالدو مغطي واول طلع رونالدو حينفجر وتشوفوا بنزيما الحقيقي</td>\n",
              "      <td>2</td>\n",
              "    </tr>\n",
              "    <tr>\n",
              "      <th>88367</th>\n",
              "      <td>الروايه الرسميه للانفجارات علشان ناخدها كوبي وبيست</td>\n",
              "      <td>0</td>\n",
              "    </tr>\n",
              "    <tr>\n",
              "      <th>62290</th>\n",
              "      <td>اتوقع كين نفسه مختار صلاح كبتن لفريقه الفانتسي</td>\n",
              "      <td>0</td>\n",
              "    </tr>\n",
              "    <tr>\n",
              "      <th>103430</th>\n",
              "      <td>فروقات مبدا الشوبينج الرجاله الستات الراجل بيشوف الحاجه الڨاترينه يدخل يشتريها الست تدخل تشوف القماش طريقه الخياطه مصنوعه فين و تمشي تشتري</td>\n",
              "      <td>0</td>\n",
              "    </tr>\n",
              "    <tr>\n",
              "      <th>18619</th>\n",
              "      <td>افلق وانا ظهرك اي ول كفر يوو</td>\n",
              "      <td>2</td>\n",
              "    </tr>\n",
              "    <tr>\n",
              "      <th>47555</th>\n",
              "      <td>كنقري شي تدوينات شي وحدين قوسين مناضلين نشطاء مزال معارف واش خارجه قناعه فقط للبهرجه تحقيق حلم العبور لاوروبا عبر اللجوء اللي غالب ينتهي بالرفض الترحيل بلا مندخلوا الركاكه شي حمل</td>\n",
              "      <td>3</td>\n",
              "    </tr>\n",
              "    <tr>\n",
              "      <th>141325</th>\n",
              "      <td>داير يحرر فلسطين تويتر عشان الفاظكم البذيءه دي وسبكم للخالق الله سلط عليكم اليهود وسخ وحيكونوا راكبنكم كده لحدي يوم القيامه كلب</td>\n",
              "      <td>4</td>\n",
              "    </tr>\n",
              "    <tr>\n",
              "      <th>5793</th>\n",
              "      <td>هه يكلم جماعه تعالو فكو عليا</td>\n",
              "      <td>2</td>\n",
              "    </tr>\n",
              "    <tr>\n",
              "      <th>78909</th>\n",
              "      <td>اسكندريه بحرك مجاري عمرو شوقي</td>\n",
              "      <td>0</td>\n",
              "    </tr>\n",
              "  </tbody>\n",
              "</table>\n",
              "</div>\n",
              "      <button class=\"colab-df-convert\" onclick=\"convertToInteractive('df-8744296a-4978-48d7-a74c-244d49693d0a')\"\n",
              "              title=\"Convert this dataframe to an interactive table.\"\n",
              "              style=\"display:none;\">\n",
              "        \n",
              "  <svg xmlns=\"http://www.w3.org/2000/svg\" height=\"24px\"viewBox=\"0 0 24 24\"\n",
              "       width=\"24px\">\n",
              "    <path d=\"M0 0h24v24H0V0z\" fill=\"none\"/>\n",
              "    <path d=\"M18.56 5.44l.94 2.06.94-2.06 2.06-.94-2.06-.94-.94-2.06-.94 2.06-2.06.94zm-11 1L8.5 8.5l.94-2.06 2.06-.94-2.06-.94L8.5 2.5l-.94 2.06-2.06.94zm10 10l.94 2.06.94-2.06 2.06-.94-2.06-.94-.94-2.06-.94 2.06-2.06.94z\"/><path d=\"M17.41 7.96l-1.37-1.37c-.4-.4-.92-.59-1.43-.59-.52 0-1.04.2-1.43.59L10.3 9.45l-7.72 7.72c-.78.78-.78 2.05 0 2.83L4 21.41c.39.39.9.59 1.41.59.51 0 1.02-.2 1.41-.59l7.78-7.78 2.81-2.81c.8-.78.8-2.07 0-2.86zM5.41 20L4 18.59l7.72-7.72 1.47 1.35L5.41 20z\"/>\n",
              "  </svg>\n",
              "      </button>\n",
              "      \n",
              "  <style>\n",
              "    .colab-df-container {\n",
              "      display:flex;\n",
              "      flex-wrap:wrap;\n",
              "      gap: 12px;\n",
              "    }\n",
              "\n",
              "    .colab-df-convert {\n",
              "      background-color: #E8F0FE;\n",
              "      border: none;\n",
              "      border-radius: 50%;\n",
              "      cursor: pointer;\n",
              "      display: none;\n",
              "      fill: #1967D2;\n",
              "      height: 32px;\n",
              "      padding: 0 0 0 0;\n",
              "      width: 32px;\n",
              "    }\n",
              "\n",
              "    .colab-df-convert:hover {\n",
              "      background-color: #E2EBFA;\n",
              "      box-shadow: 0px 1px 2px rgba(60, 64, 67, 0.3), 0px 1px 3px 1px rgba(60, 64, 67, 0.15);\n",
              "      fill: #174EA6;\n",
              "    }\n",
              "\n",
              "    [theme=dark] .colab-df-convert {\n",
              "      background-color: #3B4455;\n",
              "      fill: #D2E3FC;\n",
              "    }\n",
              "\n",
              "    [theme=dark] .colab-df-convert:hover {\n",
              "      background-color: #434B5C;\n",
              "      box-shadow: 0px 1px 3px 1px rgba(0, 0, 0, 0.15);\n",
              "      filter: drop-shadow(0px 1px 2px rgba(0, 0, 0, 0.3));\n",
              "      fill: #FFFFFF;\n",
              "    }\n",
              "  </style>\n",
              "\n",
              "      <script>\n",
              "        const buttonEl =\n",
              "          document.querySelector('#df-8744296a-4978-48d7-a74c-244d49693d0a button.colab-df-convert');\n",
              "        buttonEl.style.display =\n",
              "          google.colab.kernel.accessAllowed ? 'block' : 'none';\n",
              "\n",
              "        async function convertToInteractive(key) {\n",
              "          const element = document.querySelector('#df-8744296a-4978-48d7-a74c-244d49693d0a');\n",
              "          const dataTable =\n",
              "            await google.colab.kernel.invokeFunction('convertToInteractive',\n",
              "                                                     [key], {});\n",
              "          if (!dataTable) return;\n",
              "\n",
              "          const docLinkHtml = 'Like what you see? Visit the ' +\n",
              "            '<a target=\"_blank\" href=https://colab.research.google.com/notebooks/data_table.ipynb>data table notebook</a>'\n",
              "            + ' to learn more about interactive tables.';\n",
              "          element.innerHTML = '';\n",
              "          dataTable['output_type'] = 'display_data';\n",
              "          await google.colab.output.renderOutput(dataTable, element);\n",
              "          const docLink = document.createElement('div');\n",
              "          docLink.innerHTML = docLinkHtml;\n",
              "          element.appendChild(docLink);\n",
              "        }\n",
              "      </script>\n",
              "    </div>\n",
              "  </div>\n",
              "  "
            ]
          },
          "metadata": {},
          "execution_count": 38
        }
      ],
      "source": [
        "df.sample(50)"
      ]
    },
    {
      "cell_type": "code",
      "execution_count": null,
      "metadata": {
        "colab": {
          "base_uri": "https://localhost:8080/"
        },
        "id": "YgNWiHBbpb-z",
        "outputId": "6afa3bc3-7cc5-4db6-8d75-747092a99ec4"
      },
      "outputs": [
        {
          "output_type": "stream",
          "name": "stdout",
          "text": [
            "<class 'pandas.core.frame.DataFrame'>\n",
            "RangeIndex: 147725 entries, 0 to 147724\n",
            "Data columns (total 2 columns):\n",
            " #   Column   Non-Null Count   Dtype \n",
            "---  ------   --------------   ----- \n",
            " 0   text     147725 non-null  object\n",
            " 1   dialect  147725 non-null  int64 \n",
            "dtypes: int64(1), object(1)\n",
            "memory usage: 2.3+ MB\n",
            "None\n"
          ]
        }
      ],
      "source": [
        "print(df.info())"
      ]
    },
    {
      "cell_type": "markdown",
      "metadata": {
        "id": "myXmmxtBNi3Z"
      },
      "source": [
        "# **Model Training**"
      ]
    },
    {
      "cell_type": "markdown",
      "metadata": {
        "id": "VIwpazuQOYkG"
      },
      "source": [
        "## **Machine Learning**"
      ]
    },
    {
      "cell_type": "code",
      "execution_count": null,
      "metadata": {
        "colab": {
          "base_uri": "https://localhost:8080/"
        },
        "id": "G3jVZxBbEpxH",
        "outputId": "defd04e4-00fc-4b16-cca7-341bbe0b09a8"
      },
      "outputs": [
        {
          "output_type": "stream",
          "name": "stderr",
          "text": [
            "[nltk_data] Downloading package punkt to /root/nltk_data...\n",
            "[nltk_data]   Unzipping tokenizers/punkt.zip.\n"
          ]
        },
        {
          "output_type": "execute_result",
          "data": {
            "text/plain": [
              "True"
            ]
          },
          "metadata": {},
          "execution_count": 40
        }
      ],
      "source": [
        "nltk.download('punkt')"
      ]
    },
    {
      "cell_type": "code",
      "execution_count": null,
      "metadata": {
        "id": "cU6co4FwFlXY"
      },
      "outputs": [],
      "source": [
        "# Assigning the features and lables from the dataframe\n",
        "features = df.text.values.astype(str)\n",
        "lables = df.dialect.values.astype('int')"
      ]
    },
    {
      "cell_type": "markdown",
      "metadata": {
        "id": "kMMDKtpJF3P_"
      },
      "source": [
        "### **Spliting data** "
      ]
    },
    {
      "cell_type": "code",
      "execution_count": null,
      "metadata": {
        "id": "6cYcfVBOF6x-"
      },
      "outputs": [],
      "source": [
        "X_train, X_test, y_train, y_test = train_test_split(\n",
        "        features, lables, random_state=42, test_size=0.2, shuffle=True)"
      ]
    },
    {
      "cell_type": "markdown",
      "metadata": {
        "id": "bnJpLX0a7IOV"
      },
      "source": [
        "### **Apply TF-IDF** "
      ]
    },
    {
      "cell_type": "code",
      "execution_count": null,
      "metadata": {
        "id": "mm4xn_lO6Pj0"
      },
      "outputs": [],
      "source": [
        "# Create a TfidfVectorizer object\n",
        "tfidf_vectorizer = TfidfVectorizer(\n",
        "    min_df=0.0001, \n",
        "    max_df=0.95, \n",
        "    ngram_range=(1, 4),\n",
        "    max_features= 2000,\n",
        "    analyzer='word')"
      ]
    },
    {
      "cell_type": "markdown",
      "metadata": {
        "id": "xdwKX5I9ltnX"
      },
      "source": [
        "### **SVC**"
      ]
    },
    {
      "cell_type": "code",
      "execution_count": null,
      "metadata": {
        "id": "RecUfGl8mTT-"
      },
      "outputs": [],
      "source": [
        "# Create a SVC object with class weighting and hyperparameter tuning\n",
        "svm_clf = SVC(C=1, gamma='scale', kernel='rbf', class_weight='balanced')\n",
        "# svm_clf = SVC(C=1, degree = 3, gamma='auto', kernel='linear', class_weight='balanced')\n",
        "\n",
        "\n",
        "pipe_tfidf = Pipeline([('tfidf', tfidf_vectorizer),\n",
        "                  ('svm_clf', svm_clf)], verbose=True)\n",
        "\n",
        "# # Train the SVM model on the training data\n",
        "pipe_tfidf.fit(X_train, y_train)"
      ]
    },
    {
      "cell_type": "code",
      "execution_count": null,
      "metadata": {
        "colab": {
          "base_uri": "https://localhost:8080/"
        },
        "id": "5KYCuaCClz7F",
        "outputId": "f1b525c3-c386-4bf5-e776-b78d84139524"
      },
      "outputs": [
        {
          "name": "stdout",
          "output_type": "stream",
          "text": [
            "              precision    recall  f1-score   support\n",
            "\n",
            "           0       0.84      0.49      0.62      5779\n",
            "           1       0.66      0.46      0.54      2790\n",
            "           2       0.48      0.35      0.40      3549\n",
            "           3       0.16      0.71      0.25      1169\n",
            "           4       0.40      0.40      0.40      1486\n",
            "\n",
            "    accuracy                           0.46     14773\n",
            "   macro avg       0.50      0.48      0.44     14773\n",
            "weighted avg       0.62      0.46      0.50     14773\n",
            "\n"
          ]
        }
      ],
      "source": [
        "# Predict the labels of the testing data\n",
        "# y_pred = pipe_tfidf.predict(X_test)\n",
        "y_pred = svm_clf.predict(X_test)\n",
        "\n",
        "\n",
        "# Print the classification report\n",
        "print(classification_report(y_test, y_pred))"
      ]
    },
    {
      "cell_type": "markdown",
      "metadata": {
        "id": "FJmC_N1bGJj7"
      },
      "source": [
        "### **Random Forest**"
      ]
    },
    {
      "cell_type": "code",
      "execution_count": null,
      "metadata": {
        "id": "Nmrsf-ng8DiU"
      },
      "outputs": [],
      "source": [
        "rf_clf = RandomForestClassifier(criterion='gini',\n",
        "                                n_estimators=15,\n",
        "                                min_samples_split=10,\n",
        "                                min_samples_leaf=1,\n",
        "                                max_features='auto',\n",
        "                                random_state=1,\n",
        "                                n_jobs=-1,\n",
        "                                verbose=2)"
      ]
    },
    {
      "cell_type": "code",
      "execution_count": null,
      "metadata": {
        "colab": {
          "base_uri": "https://localhost:8080/",
          "height": 534
        },
        "id": "ixY3h2RRFAop",
        "outputId": "9b000cad-2f00-4e97-cf47-2e4e1ab092d8"
      },
      "outputs": [
        {
          "output_type": "stream",
          "name": "stdout",
          "text": [
            "[Pipeline] ............. (step 1 of 2) Processing tfidf, total=  21.6s\n",
            "building tree 1 of 15building tree 2 of 15\n",
            "\n"
          ]
        },
        {
          "output_type": "stream",
          "name": "stderr",
          "text": [
            "/usr/local/lib/python3.10/dist-packages/sklearn/ensemble/_forest.py:424: FutureWarning: `max_features='auto'` has been deprecated in 1.1 and will be removed in 1.3. To keep the past behaviour, explicitly set `max_features='sqrt'` or remove this parameter as it is also the default value for RandomForestClassifiers and ExtraTreesClassifiers.\n",
            "  warn(\n",
            "[Parallel(n_jobs=-1)]: Using backend ThreadingBackend with 2 concurrent workers.\n"
          ]
        },
        {
          "output_type": "stream",
          "name": "stdout",
          "text": [
            "building tree 3 of 15\n",
            "building tree 4 of 15\n",
            "building tree 5 of 15\n",
            "building tree 6 of 15\n",
            "building tree 7 of 15\n",
            "building tree 8 of 15\n",
            "building tree 9 of 15\n",
            "building tree 10 of 15\n",
            "building tree 11 of 15\n",
            "building tree 12 of 15\n",
            "building tree 13 of 15\n",
            "building tree 14 of 15\n",
            "building tree 15 of 15\n",
            "[Pipeline] ............... (step 2 of 2) Processing clf, total=  27.1s\n"
          ]
        },
        {
          "output_type": "stream",
          "name": "stderr",
          "text": [
            "[Parallel(n_jobs=-1)]: Done  15 out of  15 | elapsed:   27.1s finished\n"
          ]
        },
        {
          "output_type": "execute_result",
          "data": {
            "text/plain": [
              "Pipeline(steps=[('tfidf',\n",
              "                 TfidfVectorizer(max_df=0.95, max_features=2000, min_df=0.0001,\n",
              "                                 ngram_range=(1, 4))),\n",
              "                ('clf',\n",
              "                 RandomForestClassifier(max_features='auto',\n",
              "                                        min_samples_split=10, n_estimators=15,\n",
              "                                        n_jobs=-1, random_state=1,\n",
              "                                        verbose=2))],\n",
              "         verbose=True)"
            ],
            "text/html": [
              "<style>#sk-container-id-4 {color: black;background-color: white;}#sk-container-id-4 pre{padding: 0;}#sk-container-id-4 div.sk-toggleable {background-color: white;}#sk-container-id-4 label.sk-toggleable__label {cursor: pointer;display: block;width: 100%;margin-bottom: 0;padding: 0.3em;box-sizing: border-box;text-align: center;}#sk-container-id-4 label.sk-toggleable__label-arrow:before {content: \"▸\";float: left;margin-right: 0.25em;color: #696969;}#sk-container-id-4 label.sk-toggleable__label-arrow:hover:before {color: black;}#sk-container-id-4 div.sk-estimator:hover label.sk-toggleable__label-arrow:before {color: black;}#sk-container-id-4 div.sk-toggleable__content {max-height: 0;max-width: 0;overflow: hidden;text-align: left;background-color: #f0f8ff;}#sk-container-id-4 div.sk-toggleable__content pre {margin: 0.2em;color: black;border-radius: 0.25em;background-color: #f0f8ff;}#sk-container-id-4 input.sk-toggleable__control:checked~div.sk-toggleable__content {max-height: 200px;max-width: 100%;overflow: auto;}#sk-container-id-4 input.sk-toggleable__control:checked~label.sk-toggleable__label-arrow:before {content: \"▾\";}#sk-container-id-4 div.sk-estimator input.sk-toggleable__control:checked~label.sk-toggleable__label {background-color: #d4ebff;}#sk-container-id-4 div.sk-label input.sk-toggleable__control:checked~label.sk-toggleable__label {background-color: #d4ebff;}#sk-container-id-4 input.sk-hidden--visually {border: 0;clip: rect(1px 1px 1px 1px);clip: rect(1px, 1px, 1px, 1px);height: 1px;margin: -1px;overflow: hidden;padding: 0;position: absolute;width: 1px;}#sk-container-id-4 div.sk-estimator {font-family: monospace;background-color: #f0f8ff;border: 1px dotted black;border-radius: 0.25em;box-sizing: border-box;margin-bottom: 0.5em;}#sk-container-id-4 div.sk-estimator:hover {background-color: #d4ebff;}#sk-container-id-4 div.sk-parallel-item::after {content: \"\";width: 100%;border-bottom: 1px solid gray;flex-grow: 1;}#sk-container-id-4 div.sk-label:hover label.sk-toggleable__label {background-color: #d4ebff;}#sk-container-id-4 div.sk-serial::before {content: \"\";position: absolute;border-left: 1px solid gray;box-sizing: border-box;top: 0;bottom: 0;left: 50%;z-index: 0;}#sk-container-id-4 div.sk-serial {display: flex;flex-direction: column;align-items: center;background-color: white;padding-right: 0.2em;padding-left: 0.2em;position: relative;}#sk-container-id-4 div.sk-item {position: relative;z-index: 1;}#sk-container-id-4 div.sk-parallel {display: flex;align-items: stretch;justify-content: center;background-color: white;position: relative;}#sk-container-id-4 div.sk-item::before, #sk-container-id-4 div.sk-parallel-item::before {content: \"\";position: absolute;border-left: 1px solid gray;box-sizing: border-box;top: 0;bottom: 0;left: 50%;z-index: -1;}#sk-container-id-4 div.sk-parallel-item {display: flex;flex-direction: column;z-index: 1;position: relative;background-color: white;}#sk-container-id-4 div.sk-parallel-item:first-child::after {align-self: flex-end;width: 50%;}#sk-container-id-4 div.sk-parallel-item:last-child::after {align-self: flex-start;width: 50%;}#sk-container-id-4 div.sk-parallel-item:only-child::after {width: 0;}#sk-container-id-4 div.sk-dashed-wrapped {border: 1px dashed gray;margin: 0 0.4em 0.5em 0.4em;box-sizing: border-box;padding-bottom: 0.4em;background-color: white;}#sk-container-id-4 div.sk-label label {font-family: monospace;font-weight: bold;display: inline-block;line-height: 1.2em;}#sk-container-id-4 div.sk-label-container {text-align: center;}#sk-container-id-4 div.sk-container {/* jupyter's `normalize.less` sets `[hidden] { display: none; }` but bootstrap.min.css set `[hidden] { display: none !important; }` so we also need the `!important` here to be able to override the default hidden behavior on the sphinx rendered scikit-learn.org. See: https://github.com/scikit-learn/scikit-learn/issues/21755 */display: inline-block !important;position: relative;}#sk-container-id-4 div.sk-text-repr-fallback {display: none;}</style><div id=\"sk-container-id-4\" class=\"sk-top-container\"><div class=\"sk-text-repr-fallback\"><pre>Pipeline(steps=[(&#x27;tfidf&#x27;,\n",
              "                 TfidfVectorizer(max_df=0.95, max_features=2000, min_df=0.0001,\n",
              "                                 ngram_range=(1, 4))),\n",
              "                (&#x27;clf&#x27;,\n",
              "                 RandomForestClassifier(max_features=&#x27;auto&#x27;,\n",
              "                                        min_samples_split=10, n_estimators=15,\n",
              "                                        n_jobs=-1, random_state=1,\n",
              "                                        verbose=2))],\n",
              "         verbose=True)</pre><b>In a Jupyter environment, please rerun this cell to show the HTML representation or trust the notebook. <br />On GitHub, the HTML representation is unable to render, please try loading this page with nbviewer.org.</b></div><div class=\"sk-container\" hidden><div class=\"sk-item sk-dashed-wrapped\"><div class=\"sk-label-container\"><div class=\"sk-label sk-toggleable\"><input class=\"sk-toggleable__control sk-hidden--visually\" id=\"sk-estimator-id-10\" type=\"checkbox\" ><label for=\"sk-estimator-id-10\" class=\"sk-toggleable__label sk-toggleable__label-arrow\">Pipeline</label><div class=\"sk-toggleable__content\"><pre>Pipeline(steps=[(&#x27;tfidf&#x27;,\n",
              "                 TfidfVectorizer(max_df=0.95, max_features=2000, min_df=0.0001,\n",
              "                                 ngram_range=(1, 4))),\n",
              "                (&#x27;clf&#x27;,\n",
              "                 RandomForestClassifier(max_features=&#x27;auto&#x27;,\n",
              "                                        min_samples_split=10, n_estimators=15,\n",
              "                                        n_jobs=-1, random_state=1,\n",
              "                                        verbose=2))],\n",
              "         verbose=True)</pre></div></div></div><div class=\"sk-serial\"><div class=\"sk-item\"><div class=\"sk-estimator sk-toggleable\"><input class=\"sk-toggleable__control sk-hidden--visually\" id=\"sk-estimator-id-11\" type=\"checkbox\" ><label for=\"sk-estimator-id-11\" class=\"sk-toggleable__label sk-toggleable__label-arrow\">TfidfVectorizer</label><div class=\"sk-toggleable__content\"><pre>TfidfVectorizer(max_df=0.95, max_features=2000, min_df=0.0001,\n",
              "                ngram_range=(1, 4))</pre></div></div></div><div class=\"sk-item\"><div class=\"sk-estimator sk-toggleable\"><input class=\"sk-toggleable__control sk-hidden--visually\" id=\"sk-estimator-id-12\" type=\"checkbox\" ><label for=\"sk-estimator-id-12\" class=\"sk-toggleable__label sk-toggleable__label-arrow\">RandomForestClassifier</label><div class=\"sk-toggleable__content\"><pre>RandomForestClassifier(max_features=&#x27;auto&#x27;, min_samples_split=10,\n",
              "                       n_estimators=15, n_jobs=-1, random_state=1, verbose=2)</pre></div></div></div></div></div></div></div>"
            ]
          },
          "metadata": {},
          "execution_count": 54
        }
      ],
      "source": [
        "pipe_rf = Pipeline([('tfidf', tfidf_vectorizer),\n",
        "                  ('clf', rf_clf)], verbose=True)\n",
        "pipe_rf.fit(X_train, y_train)"
      ]
    },
    {
      "cell_type": "code",
      "execution_count": null,
      "metadata": {
        "colab": {
          "base_uri": "https://localhost:8080/"
        },
        "id": "0bLcMCd2Hbhp",
        "outputId": "2061cd65-b954-408f-a040-97eae4113e8a"
      },
      "outputs": [
        {
          "output_type": "stream",
          "name": "stderr",
          "text": [
            "[Parallel(n_jobs=2)]: Using backend ThreadingBackend with 2 concurrent workers.\n"
          ]
        },
        {
          "output_type": "stream",
          "name": "stdout",
          "text": [
            "Test Set Accuracy: 69.82907429345066 %\n",
            "\n",
            "\n",
            "Classification Report : \n",
            "\n",
            "              precision    recall  f1-score   support\n",
            "\n",
            "           0       0.73      0.84      0.78     11484\n",
            "           1       0.74      0.70      0.72      5578\n",
            "           2       0.61      0.67      0.64      7268\n",
            "           3       0.74      0.47      0.57      2283\n",
            "           4       0.69      0.39      0.50      2932\n",
            "\n",
            "    accuracy                           0.70     29545\n",
            "   macro avg       0.70      0.61      0.64     29545\n",
            "weighted avg       0.70      0.70      0.69     29545\n",
            "\n"
          ]
        },
        {
          "output_type": "stream",
          "name": "stderr",
          "text": [
            "[Parallel(n_jobs=2)]: Done  15 out of  15 | elapsed:    0.4s finished\n"
          ]
        }
      ],
      "source": [
        "y_pred_rf = pipe_rf.predict(X_test)\n",
        "# Evaluating the model\n",
        "print(f\"Test Set Accuracy: {accuracy_score(y_test, y_pred_rf) * 100} %\\n\\n\")\n",
        "print(f\"Classification Report : \\n\\n{classification_report(y_test, y_pred_rf)}\")"
      ]
    },
    {
      "cell_type": "code",
      "execution_count": null,
      "metadata": {
        "id": "Ti8m7ZbMHvkr"
      },
      "outputs": [],
      "source": [
        "# Saving ML Model\n",
        "with open(dataset_path+'/Models/RFmodel.pkl', 'wb') as file:\n",
        "    pickle.dump(y_pred_rf, file)\n"
      ]
    },
    {
      "cell_type": "markdown",
      "metadata": {
        "id": "4oHDCjmeufcs"
      },
      "source": [
        "### **XGBoost**\n"
      ]
    },
    {
      "cell_type": "code",
      "execution_count": null,
      "metadata": {
        "id": "uv0cVaEtuvnX"
      },
      "outputs": [],
      "source": [
        "import xgboost as xgb"
      ]
    },
    {
      "cell_type": "code",
      "execution_count": null,
      "metadata": {
        "id": "KW0ROvZ5uin6"
      },
      "outputs": [],
      "source": [
        "xgb_clf = xgb.XGBClassifier(n_estimators=15,\n",
        "                            min_samples_split=10)"
      ]
    },
    {
      "cell_type": "code",
      "source": [
        "pipe_xgb = Pipeline([('tfidf', tfidf_vectorizer),\n",
        "                  ('clf', xgb_clf)], verbose=True)\n",
        "pipe_xgb.fit(X_train, y_train)"
      ],
      "metadata": {
        "colab": {
          "base_uri": "https://localhost:8080/",
          "height": 213
        },
        "id": "GU4vBKnqup3Q",
        "outputId": "0707c353-22a3-4201-e8f1-5c19f3ee6008"
      },
      "execution_count": null,
      "outputs": [
        {
          "output_type": "stream",
          "name": "stdout",
          "text": [
            "[Pipeline] ............. (step 1 of 2) Processing tfidf, total=  14.7s\n",
            "[17:39:39] WARNING: ../src/learner.cc:767: \n",
            "Parameters: { \"min_samples_split\" } are not used.\n",
            "\n",
            "[Pipeline] ............... (step 2 of 2) Processing clf, total= 3.1min\n"
          ]
        },
        {
          "output_type": "execute_result",
          "data": {
            "text/plain": [
              "Pipeline(steps=[('tfidf',\n",
              "                 TfidfVectorizer(analyzer='char_wb', max_df=0.3, min_df=0.01,\n",
              "                                 ngram_range=(3, 5))),\n",
              "                ('clf',\n",
              "                 XGBClassifier(base_score=None, booster=None, callbacks=None,\n",
              "                               colsample_bylevel=None, colsample_bynode=None,\n",
              "                               colsample_bytree=None,\n",
              "                               early_stopping_rounds=None,\n",
              "                               enable_categorical=False, eval_metric=None,\n",
              "                               feature_types=None, gamma=None, gpu_id=None,\n",
              "                               grow...ce_type=None,\n",
              "                               interaction_constraints=None, learning_rate=None,\n",
              "                               max_bin=None, max_cat_threshold=None,\n",
              "                               max_cat_to_onehot=None, max_delta_step=None,\n",
              "                               max_depth=None, max_leaves=None,\n",
              "                               min_child_weight=None, min_samples_split=10,\n",
              "                               missing=nan, monotone_constraints=None,\n",
              "                               n_estimators=15, n_jobs=None,\n",
              "                               num_parallel_tree=None,\n",
              "                               objective='multi:softprob', ...))],\n",
              "         verbose=True)"
            ],
            "text/html": [
              "<style>#sk-container-id-1 {color: black;background-color: white;}#sk-container-id-1 pre{padding: 0;}#sk-container-id-1 div.sk-toggleable {background-color: white;}#sk-container-id-1 label.sk-toggleable__label {cursor: pointer;display: block;width: 100%;margin-bottom: 0;padding: 0.3em;box-sizing: border-box;text-align: center;}#sk-container-id-1 label.sk-toggleable__label-arrow:before {content: \"▸\";float: left;margin-right: 0.25em;color: #696969;}#sk-container-id-1 label.sk-toggleable__label-arrow:hover:before {color: black;}#sk-container-id-1 div.sk-estimator:hover label.sk-toggleable__label-arrow:before {color: black;}#sk-container-id-1 div.sk-toggleable__content {max-height: 0;max-width: 0;overflow: hidden;text-align: left;background-color: #f0f8ff;}#sk-container-id-1 div.sk-toggleable__content pre {margin: 0.2em;color: black;border-radius: 0.25em;background-color: #f0f8ff;}#sk-container-id-1 input.sk-toggleable__control:checked~div.sk-toggleable__content {max-height: 200px;max-width: 100%;overflow: auto;}#sk-container-id-1 input.sk-toggleable__control:checked~label.sk-toggleable__label-arrow:before {content: \"▾\";}#sk-container-id-1 div.sk-estimator input.sk-toggleable__control:checked~label.sk-toggleable__label {background-color: #d4ebff;}#sk-container-id-1 div.sk-label input.sk-toggleable__control:checked~label.sk-toggleable__label {background-color: #d4ebff;}#sk-container-id-1 input.sk-hidden--visually {border: 0;clip: rect(1px 1px 1px 1px);clip: rect(1px, 1px, 1px, 1px);height: 1px;margin: -1px;overflow: hidden;padding: 0;position: absolute;width: 1px;}#sk-container-id-1 div.sk-estimator {font-family: monospace;background-color: #f0f8ff;border: 1px dotted black;border-radius: 0.25em;box-sizing: border-box;margin-bottom: 0.5em;}#sk-container-id-1 div.sk-estimator:hover {background-color: #d4ebff;}#sk-container-id-1 div.sk-parallel-item::after {content: \"\";width: 100%;border-bottom: 1px solid gray;flex-grow: 1;}#sk-container-id-1 div.sk-label:hover label.sk-toggleable__label {background-color: #d4ebff;}#sk-container-id-1 div.sk-serial::before {content: \"\";position: absolute;border-left: 1px solid gray;box-sizing: border-box;top: 0;bottom: 0;left: 50%;z-index: 0;}#sk-container-id-1 div.sk-serial {display: flex;flex-direction: column;align-items: center;background-color: white;padding-right: 0.2em;padding-left: 0.2em;position: relative;}#sk-container-id-1 div.sk-item {position: relative;z-index: 1;}#sk-container-id-1 div.sk-parallel {display: flex;align-items: stretch;justify-content: center;background-color: white;position: relative;}#sk-container-id-1 div.sk-item::before, #sk-container-id-1 div.sk-parallel-item::before {content: \"\";position: absolute;border-left: 1px solid gray;box-sizing: border-box;top: 0;bottom: 0;left: 50%;z-index: -1;}#sk-container-id-1 div.sk-parallel-item {display: flex;flex-direction: column;z-index: 1;position: relative;background-color: white;}#sk-container-id-1 div.sk-parallel-item:first-child::after {align-self: flex-end;width: 50%;}#sk-container-id-1 div.sk-parallel-item:last-child::after {align-self: flex-start;width: 50%;}#sk-container-id-1 div.sk-parallel-item:only-child::after {width: 0;}#sk-container-id-1 div.sk-dashed-wrapped {border: 1px dashed gray;margin: 0 0.4em 0.5em 0.4em;box-sizing: border-box;padding-bottom: 0.4em;background-color: white;}#sk-container-id-1 div.sk-label label {font-family: monospace;font-weight: bold;display: inline-block;line-height: 1.2em;}#sk-container-id-1 div.sk-label-container {text-align: center;}#sk-container-id-1 div.sk-container {/* jupyter's `normalize.less` sets `[hidden] { display: none; }` but bootstrap.min.css set `[hidden] { display: none !important; }` so we also need the `!important` here to be able to override the default hidden behavior on the sphinx rendered scikit-learn.org. See: https://github.com/scikit-learn/scikit-learn/issues/21755 */display: inline-block !important;position: relative;}#sk-container-id-1 div.sk-text-repr-fallback {display: none;}</style><div id=\"sk-container-id-1\" class=\"sk-top-container\"><div class=\"sk-text-repr-fallback\"><pre>Pipeline(steps=[(&#x27;tfidf&#x27;,\n",
              "                 TfidfVectorizer(analyzer=&#x27;char_wb&#x27;, max_df=0.3, min_df=0.01,\n",
              "                                 ngram_range=(3, 5))),\n",
              "                (&#x27;clf&#x27;,\n",
              "                 XGBClassifier(base_score=None, booster=None, callbacks=None,\n",
              "                               colsample_bylevel=None, colsample_bynode=None,\n",
              "                               colsample_bytree=None,\n",
              "                               early_stopping_rounds=None,\n",
              "                               enable_categorical=False, eval_metric=None,\n",
              "                               feature_types=None, gamma=None, gpu_id=None,\n",
              "                               grow...ce_type=None,\n",
              "                               interaction_constraints=None, learning_rate=None,\n",
              "                               max_bin=None, max_cat_threshold=None,\n",
              "                               max_cat_to_onehot=None, max_delta_step=None,\n",
              "                               max_depth=None, max_leaves=None,\n",
              "                               min_child_weight=None, min_samples_split=10,\n",
              "                               missing=nan, monotone_constraints=None,\n",
              "                               n_estimators=15, n_jobs=None,\n",
              "                               num_parallel_tree=None,\n",
              "                               objective=&#x27;multi:softprob&#x27;, ...))],\n",
              "         verbose=True)</pre><b>In a Jupyter environment, please rerun this cell to show the HTML representation or trust the notebook. <br />On GitHub, the HTML representation is unable to render, please try loading this page with nbviewer.org.</b></div><div class=\"sk-container\" hidden><div class=\"sk-item sk-dashed-wrapped\"><div class=\"sk-label-container\"><div class=\"sk-label sk-toggleable\"><input class=\"sk-toggleable__control sk-hidden--visually\" id=\"sk-estimator-id-1\" type=\"checkbox\" ><label for=\"sk-estimator-id-1\" class=\"sk-toggleable__label sk-toggleable__label-arrow\">Pipeline</label><div class=\"sk-toggleable__content\"><pre>Pipeline(steps=[(&#x27;tfidf&#x27;,\n",
              "                 TfidfVectorizer(analyzer=&#x27;char_wb&#x27;, max_df=0.3, min_df=0.01,\n",
              "                                 ngram_range=(3, 5))),\n",
              "                (&#x27;clf&#x27;,\n",
              "                 XGBClassifier(base_score=None, booster=None, callbacks=None,\n",
              "                               colsample_bylevel=None, colsample_bynode=None,\n",
              "                               colsample_bytree=None,\n",
              "                               early_stopping_rounds=None,\n",
              "                               enable_categorical=False, eval_metric=None,\n",
              "                               feature_types=None, gamma=None, gpu_id=None,\n",
              "                               grow...ce_type=None,\n",
              "                               interaction_constraints=None, learning_rate=None,\n",
              "                               max_bin=None, max_cat_threshold=None,\n",
              "                               max_cat_to_onehot=None, max_delta_step=None,\n",
              "                               max_depth=None, max_leaves=None,\n",
              "                               min_child_weight=None, min_samples_split=10,\n",
              "                               missing=nan, monotone_constraints=None,\n",
              "                               n_estimators=15, n_jobs=None,\n",
              "                               num_parallel_tree=None,\n",
              "                               objective=&#x27;multi:softprob&#x27;, ...))],\n",
              "         verbose=True)</pre></div></div></div><div class=\"sk-serial\"><div class=\"sk-item\"><div class=\"sk-estimator sk-toggleable\"><input class=\"sk-toggleable__control sk-hidden--visually\" id=\"sk-estimator-id-2\" type=\"checkbox\" ><label for=\"sk-estimator-id-2\" class=\"sk-toggleable__label sk-toggleable__label-arrow\">TfidfVectorizer</label><div class=\"sk-toggleable__content\"><pre>TfidfVectorizer(analyzer=&#x27;char_wb&#x27;, max_df=0.3, min_df=0.01, ngram_range=(3, 5))</pre></div></div></div><div class=\"sk-item\"><div class=\"sk-estimator sk-toggleable\"><input class=\"sk-toggleable__control sk-hidden--visually\" id=\"sk-estimator-id-3\" type=\"checkbox\" ><label for=\"sk-estimator-id-3\" class=\"sk-toggleable__label sk-toggleable__label-arrow\">XGBClassifier</label><div class=\"sk-toggleable__content\"><pre>XGBClassifier(base_score=None, booster=None, callbacks=None,\n",
              "              colsample_bylevel=None, colsample_bynode=None,\n",
              "              colsample_bytree=None, early_stopping_rounds=None,\n",
              "              enable_categorical=False, eval_metric=None, feature_types=None,\n",
              "              gamma=None, gpu_id=None, grow_policy=None, importance_type=None,\n",
              "              interaction_constraints=None, learning_rate=None, max_bin=None,\n",
              "              max_cat_threshold=None, max_cat_to_onehot=None,\n",
              "              max_delta_step=None, max_depth=None, max_leaves=None,\n",
              "              min_child_weight=None, min_samples_split=10, missing=nan,\n",
              "              monotone_constraints=None, n_estimators=15, n_jobs=None,\n",
              "              num_parallel_tree=None, objective=&#x27;multi:softprob&#x27;, ...)</pre></div></div></div></div></div></div></div>"
            ]
          },
          "metadata": {},
          "execution_count": 52
        }
      ]
    },
    {
      "cell_type": "code",
      "source": [
        "y_pred_xgb = pipe_xgb.predict(X_test)\n",
        "# Evaluating the model\n",
        "print(f\"Test Set Accuracy: {accuracy_score(y_test, y_pred_xgb) * 100} %\\n\\n\")\n",
        "print(f\"Classification Report : \\n\\n{classification_report(y_test, y_pred_xgb)}\")"
      ],
      "metadata": {
        "colab": {
          "base_uri": "https://localhost:8080/"
        },
        "outputId": "853d6dd6-6f17-4eb6-abb6-413da0c8c722",
        "id": "G743U6Loup3S"
      },
      "execution_count": null,
      "outputs": [
        {
          "output_type": "stream",
          "name": "stdout",
          "text": [
            "Test Set Accuracy: 64.1981994178569 %\n",
            "\n",
            "\n",
            "Classification Report : \n",
            "\n",
            "              precision    recall  f1-score   support\n",
            "\n",
            "           0       0.70      0.79      0.74      5779\n",
            "           1       0.87      0.54      0.67      2790\n",
            "           2       0.47      0.74      0.58      3549\n",
            "           3       0.88      0.32      0.47      1169\n",
            "           4       0.77      0.30      0.43      1486\n",
            "\n",
            "    accuracy                           0.64     14773\n",
            "   macro avg       0.74      0.54      0.58     14773\n",
            "weighted avg       0.70      0.64      0.63     14773\n",
            "\n"
          ]
        }
      ]
    },
    {
      "cell_type": "markdown",
      "metadata": {
        "id": "w93bI5StIwzC"
      },
      "source": [
        "## **Deep Learning**"
      ]
    },
    {
      "cell_type": "code",
      "execution_count": null,
      "metadata": {
        "id": "0t4HHQbxJJOR"
      },
      "outputs": [],
      "source": [
        "# Preparing the dataset\n",
        "lables = pd.get_dummies(df['dialect']).values  # One-hot encoding the lables"
      ]
    },
    {
      "cell_type": "markdown",
      "source": [
        "### **Spliting data**"
      ],
      "metadata": {
        "id": "hO37516dhfvQ"
      }
    },
    {
      "cell_type": "code",
      "execution_count": null,
      "metadata": {
        "colab": {
          "base_uri": "https://localhost:8080/"
        },
        "id": "iKbZChF7Q9pu",
        "outputId": "425b01ff-3ec7-4795-bf98-ff20e1f621a1"
      },
      "outputs": [
        {
          "output_type": "stream",
          "name": "stdout",
          "text": [
            "(118180,) (29545,)\n",
            "(118180, 5) (29545, 5)\n"
          ]
        }
      ],
      "source": [
        "X_train, X_test, y_train , y_test = train_test_split(df['text'],lables, test_size = 0.20, random_state = 42)\n",
        "print(X_train.shape,X_test.shape)\n",
        "print(y_train.shape,y_test.shape)"
      ]
    },
    {
      "cell_type": "markdown",
      "source": [
        "### **Tokenizing**"
      ],
      "metadata": {
        "id": "0CZTn32QhrbI"
      }
    },
    {
      "cell_type": "code",
      "execution_count": null,
      "metadata": {
        "colab": {
          "base_uri": "https://localhost:8080/"
        },
        "id": "2-MRZRr-IXAA",
        "outputId": "334cee04-e595-4129-d018-3ec63c1e8248"
      },
      "outputs": [
        {
          "output_type": "stream",
          "name": "stdout",
          "text": [
            "Found 187698 unique word.\n"
          ]
        }
      ],
      "source": [
        "tokenizer = Tokenizer(oov_token='<OOV>')\n",
        "tokenizer.fit_on_texts(X_train)\n",
        "word_index = tokenizer.word_index\n",
        "print('Found %s unique word.' % len(word_index))\n"
      ]
    },
    {
      "cell_type": "code",
      "execution_count": null,
      "metadata": {
        "colab": {
          "base_uri": "https://localhost:8080/"
        },
        "id": "iMdmVQgKLMhx",
        "outputId": "68e25f63-ddf7-420d-8ea9-cda12c3cb224"
      },
      "outputs": [
        {
          "output_type": "execute_result",
          "data": {
            "text/plain": [
              "187699"
            ]
          },
          "metadata": {},
          "execution_count": 47
        }
      ],
      "source": [
        "vocab_size = len(tokenizer.word_index) + 1\n",
        "vocab_size"
      ]
    },
    {
      "cell_type": "code",
      "execution_count": null,
      "metadata": {
        "id": "-OJ91DKtLagP"
      },
      "outputs": [],
      "source": [
        "embedding_dim = 128\n",
        "max_length = 250\n",
        "\n",
        "# Truncate and padding options\n",
        "trunc_type = 'post'\n",
        "padding_type = 'post'"
      ]
    },
    {
      "cell_type": "code",
      "execution_count": null,
      "metadata": {
        "colab": {
          "base_uri": "https://localhost:8080/"
        },
        "id": "yvZgNMrNRKw0",
        "outputId": "36a3d00b-ef6e-4d54-8757-e81131f62b5f"
      },
      "outputs": [
        {
          "output_type": "stream",
          "name": "stdout",
          "text": [
            "Shape of train_padded: (118180, 250)\n",
            "Shape of validation_padded: (29545, 250)\n"
          ]
        }
      ],
      "source": [
        "train_seq = tokenizer.texts_to_sequences(X_train.astype(str))\n",
        "train_padded = pad_sequences(train_seq, maxlen=max_length, padding=padding_type, truncating=trunc_type)\n",
        "\n",
        "validation_seq = tokenizer.texts_to_sequences(X_test.astype(str))\n",
        "validation_padded = pad_sequences(validation_seq, maxlen=max_length, padding=padding_type, truncating=trunc_type)\n",
        "\n",
        "print('Shape of train_padded:', train_padded.shape)\n",
        "print('Shape of validation_padded:', validation_padded.shape)\n"
      ]
    },
    {
      "cell_type": "code",
      "execution_count": null,
      "metadata": {
        "id": "YcU_P0zsNlnO"
      },
      "outputs": [],
      "source": [
        "sentence_len = [len(sentence) for sentence in train_seq]"
      ]
    },
    {
      "cell_type": "code",
      "execution_count": null,
      "metadata": {
        "colab": {
          "base_uri": "https://localhost:8080/",
          "height": 430
        },
        "id": "re7fWcpmN6m8",
        "outputId": "d8359582-4834-4439-8816-7d9a58ead8e3"
      },
      "outputs": [
        {
          "output_type": "display_data",
          "data": {
            "text/plain": [
              "<Figure size 640x480 with 1 Axes>"
            ],
            "image/png": "[encoded data removed]"
          },
          "metadata": {}
        }
      ],
      "source": [
        "plt.hist(sentence_len, bins=50)\n",
        "plt.show()"
      ]
    },
    {
      "cell_type": "code",
      "execution_count": null,
      "metadata": {
        "id": "a9RRpdPD059X"
      },
      "outputs": [],
      "source": [
        "# saving tokenzer\n",
        "with open(dataset_path+'/final_tokenizer.pickle', 'wb') as handle:\n",
        "    pickle.dump(tokenizer, handle, protocol=pickle.HIGHEST_PROTOCOL)\n"
      ]
    },
    {
      "cell_type": "markdown",
      "metadata": {
        "id": "uRj1Hnh7PdpU"
      },
      "source": [
        "### **LSTM**"
      ]
    },
    {
      "cell_type": "code",
      "execution_count": null,
      "metadata": {
        "id": "93Q4tA7pSIEU"
      },
      "outputs": [],
      "source": [
        "RNN_model = tf.keras.Sequential([\n",
        "    tf.keras.layers.Embedding(vocab_size, embedding_dim, input_length=max_length),\n",
        "    tf.keras.layers.Bidirectional(tf.keras.layers.LSTM(64)),\n",
        "    tf.keras.layers.Dense(64, activation='relu'),\n",
        "    tf.keras.layers.Dense(5,activation='softmax')\n",
        "])\n"
      ]
    },
    {
      "cell_type": "code",
      "execution_count": null,
      "metadata": {
        "colab": {
          "base_uri": "https://localhost:8080/"
        },
        "id": "SUFlEwbUSexT",
        "outputId": "df24a8af-64f7-4a91-8c22-2df77229b32e"
      },
      "outputs": [
        {
          "output_type": "stream",
          "name": "stdout",
          "text": [
            "Model: \"sequential_2\"\n",
            "_________________________________________________________________\n",
            " Layer (type)                Output Shape              Param #   \n",
            "=================================================================\n",
            " embedding_2 (Embedding)     (None, 250, 128)          25772928  \n",
            "                                                                 \n",
            " bidirectional_2 (Bidirectio  (None, 128)              98816     \n",
            " nal)                                                            \n",
            "                                                                 \n",
            " dense_6 (Dense)             (None, 64)                8256      \n",
            "                                                                 \n",
            " dense_7 (Dense)             (None, 5)                 325       \n",
            "                                                                 \n",
            "=================================================================\n",
            "Total params: 25,880,325\n",
            "Trainable params: 25,880,325\n",
            "Non-trainable params: 0\n",
            "_________________________________________________________________\n"
          ]
        }
      ],
      "source": [
        "RNN_model.summary()"
      ]
    },
    {
      "cell_type": "code",
      "execution_count": null,
      "metadata": {
        "id": "O6nsdSN7MBTQ"
      },
      "outputs": [],
      "source": [
        "RNN_model.compile(loss='categorical_crossentropy', optimizer='adam',  metrics=['categorical_accuracy'])\n",
        "epochs = 10\n",
        "batch_size = 128"
      ]
    },
    {
      "cell_type": "code",
      "execution_count": null,
      "metadata": {
        "id": "9BOaw9MBKSlH"
      },
      "outputs": [],
      "source": [
        "class_weights = compute_sample_weight(class_weight='balanced', y=y_train)\n",
        "class_weights = dict(enumerate(np.squeeze(class_weights)))\n"
      ]
    },
    {
      "cell_type": "code",
      "execution_count": null,
      "metadata": {
        "colab": {
          "base_uri": "https://localhost:8080/"
        },
        "id": "bYJEu4mVKs9L",
        "outputId": "15e268ca-a1d1-43f9-995a-195c73af4216"
      },
      "outputs": [
        {
          "output_type": "stream",
          "name": "stdout",
          "text": [
            "Epoch 1/10\n",
            "935/935 [==============================] - 105s 107ms/step - loss: 0.2675 - categorical_accuracy: 0.7416 - val_loss: 0.5253 - val_categorical_accuracy: 0.8196\n",
            "Epoch 2/10\n",
            "935/935 [==============================] - 42s 45ms/step - loss: 0.0983 - categorical_accuracy: 0.9104 - val_loss: 0.5799 - val_categorical_accuracy: 0.8111\n",
            "Epoch 3/10\n",
            "935/935 [==============================] - 33s 36ms/step - loss: 0.0442 - categorical_accuracy: 0.9616 - val_loss: 0.6501 - val_categorical_accuracy: 0.8081\n",
            "Epoch 4/10\n",
            "935/935 [==============================] - 31s 33ms/step - loss: 0.0262 - categorical_accuracy: 0.9769 - val_loss: 0.7555 - val_categorical_accuracy: 0.7996\n",
            "Epoch 5/10\n",
            "935/935 [==============================] - 31s 33ms/step - loss: 0.0185 - categorical_accuracy: 0.9834 - val_loss: 0.8401 - val_categorical_accuracy: 0.7985\n",
            "Epoch 6/10\n",
            "934/935 [============================>.] - ETA: 0s - loss: 0.0136 - categorical_accuracy: 0.9874Restoring model weights from the end of the best epoch: 1.\n",
            "935/935 [==============================] - 29s 32ms/step - loss: 0.0136 - categorical_accuracy: 0.9874 - val_loss: 0.9753 - val_categorical_accuracy: 0.7981\n",
            "Epoch 6: early stopping\n"
          ]
        }
      ],
      "source": [
        "history = RNN_model.fit(train_padded, y_train, shuffle=True ,\n",
        "                    epochs=epochs,\n",
        "                    batch_size=batch_size, \n",
        "                    validation_split=0.1,\n",
        "                    callbacks=[EarlyStopping(monitor='val_categorical_accuracy', mode='max', patience=5, verbose=1 ,  restore_best_weights=True,)],\n",
        "                    class_weight=class_weights)"
      ]
    },
    {
      "cell_type": "code",
      "execution_count": null,
      "metadata": {
        "colab": {
          "base_uri": "https://localhost:8080/"
        },
        "id": "iyZpFT5Ebx76",
        "outputId": "1adc1f81-164a-4c84-9191-fc7b63330640"
      },
      "outputs": [
        {
          "output_type": "stream",
          "name": "stdout",
          "text": [
            "462/462 [==============================] - 4s 7ms/step\n"
          ]
        }
      ],
      "source": [
        "pred_rnn = RNN_model.predict(validation_padded)"
      ]
    },
    {
      "cell_type": "code",
      "execution_count": null,
      "metadata": {
        "colab": {
          "base_uri": "https://localhost:8080/"
        },
        "id": "tVHPVWJn-DzE",
        "outputId": "3f2c63a1-e332-4c24-f49b-1b6b256ab5d0"
      },
      "outputs": [
        {
          "output_type": "stream",
          "name": "stdout",
          "text": [
            "[8.7226763e-05 1.0355205e-04 7.1935874e-04 9.9900562e-01 8.4371037e-05]\n"
          ]
        }
      ],
      "source": [
        "print(pred_rnn[0])"
      ]
    },
    {
      "cell_type": "code",
      "execution_count": null,
      "metadata": {
        "colab": {
          "base_uri": "https://localhost:8080/"
        },
        "id": "K3curRUJcwyV",
        "outputId": "33fdfdff-8365-4e72-a0d6-d60e19905a69"
      },
      "outputs": [
        {
          "output_type": "stream",
          "name": "stdout",
          "text": [
            "              precision    recall  f1-score   support\n",
            "\n",
            "           0       0.85      0.91      0.88      5779\n",
            "           1       0.87      0.83      0.85      2790\n",
            "           2       0.78      0.83      0.80      3549\n",
            "           3       0.68      0.75      0.71      1169\n",
            "           4       0.92      0.50      0.65      1486\n",
            "\n",
            "    accuracy                           0.82     14773\n",
            "   macro avg       0.82      0.76      0.78     14773\n",
            "weighted avg       0.83      0.82      0.82     14773\n",
            "\n"
          ]
        }
      ],
      "source": [
        "import numpy as np\n",
        "print(classification_report(np.argmax(y_test, axis=1), np.argmax(pred_rnn, axis=1)  ))\n"
      ]
    },
    {
      "cell_type": "code",
      "execution_count": null,
      "metadata": {
        "id": "VPyGNkIVnArO"
      },
      "outputs": [],
      "source": [
        "# Save model to drive\n",
        "RNN_model.save(dataset_path +'/Models/final_lstm_model.h5')"
      ]
    },
    {
      "cell_type": "markdown",
      "metadata": {
        "id": "uQ9hyVYqQ6MF"
      },
      "source": [
        "# **Model Testing**"
      ]
    },
    {
      "cell_type": "code",
      "source": [
        "# Define the label dictionary\n",
        "label_dict = {0:'EG', 1:'LB', 2:'LY', 3:'MA', 4:'SD'}\n",
        "# Loading the model\n",
        "RNN_model = tf.keras.models.load_model(dataset_path +'/Models/final_lstm_model.h5')\n"
      ],
      "metadata": {
        "id": "7wL9LZ6V3pny"
      },
      "execution_count": null,
      "outputs": []
    },
    {
      "cell_type": "code",
      "source": [
        "# Define the maximum sequence length\n",
        "MAX_SEQUENCE_LENGTH = 250\n",
        "\n",
        "# Define a list of texts to predict\n",
        "texts = [\"- تي وين مختفي انت ؟\\n= لا والله امغير كل مانحقك نقول زبري ونغير طريقي\", \"@a_beer_farah أنو اشتقتلك انا اي 😉\", \"تي إي داتا مسحت الاكونت بتاعها نكلم مين بقا في النت السلحفاه ده؟\"]\n",
        "true_labels = [2, 1, 0]  # corresponding true labels for the texts\n",
        "\n",
        "# Preprocess each text and predict the class label\n",
        "for i, text in enumerate(texts):\n",
        "    text = remove_all(text)\n",
        "    text = np.array([text])\n",
        "    text = tokenizer.texts_to_sequences(text)\n",
        "    text = pad_sequences(text, maxlen=MAX_SEQUENCE_LENGTH, padding=padding_type, truncating=trunc_type)\n",
        "\n",
        "    # Predict the class label and print the true and predicted labels\n",
        "    prediction = RNN_model.predict(text)\n",
        "    class_label = np.argmax(prediction, axis=1)\n",
        "    true_label = true_labels[i]\n",
        "\n",
        "    if class_label == true_label:\n",
        "        label_color = 'green'\n",
        "    else:\n",
        "        label_color = 'red'\n",
        "\n",
        "    true_label_name = label_dict[true_label]\n",
        "    predicted_label_name = label_dict[class_label[0]]\n",
        "\n",
        "    print(f\"Text {i+1}: {texts[i]}\")\n",
        "    print(f\"True Label: {colored(true_label_name, label_color)}\")\n",
        "    print(f\"Predicted Label: {colored(predicted_label_name, label_color)}\\n\")\n"
      ],
      "metadata": {
        "colab": {
          "base_uri": "https://localhost:8080/"
        },
        "id": "CQFQRGWO2TWU",
        "outputId": "a2ec9504-2951-4ef0-e6c8-c9efd44df1f1"
      },
      "execution_count": null,
      "outputs": [
        {
          "output_type": "stream",
          "name": "stdout",
          "text": [
            "1/1 [==============================] - 0s 51ms/step\n",
            "Text 1: - تي وين مختفي انت ؟\n",
            "= لا والله امغير كل مانحقك نقول زبري ونغير طريقي\n",
            "True Label: LY\n",
            "Predicted Label: LY\n",
            "\n",
            "1/1 [==============================] - 0s 44ms/step\n",
            "Text 2: @a_beer_farah أنو اشتقتلك انا اي 😉\n",
            "True Label: LB\n",
            "Predicted Label: LB\n",
            "\n",
            "1/1 [==============================] - 0s 48ms/step\n",
            "Text 3: تي إي داتا مسحت الاكونت بتاعها نكلم مين بقا في النت السلحفاه ده؟\n",
            "True Label: EG\n",
            "Predicted Label: EG\n",
            "\n"
          ]
        }
      ]
    }
  ],
  "metadata": {
    "accelerator": "GPU",
    "colab": {
      "provenance": [],
      "include_colab_link": true
    },
    "gpuClass": "standard",
    "kernelspec": {
      "display_name": "Python 3",
      "name": "python3"
    },
    "language_info": {
      "name": "python"
    }
  },
  "nbformat": 4,
  "nbformat_minor": 0
}